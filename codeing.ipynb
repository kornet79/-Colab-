{
  "nbformat": 4,
  "nbformat_minor": 0,
  "metadata": {
    "colab": {
      "provenance": [],
      "authorship_tag": "ABX9TyMwh/eEYB9LQXRNGSjzf/XE",
      "include_colab_link": true
    },
    "kernelspec": {
      "name": "python3",
      "display_name": "Python 3"
    },
    "language_info": {
      "name": "python"
    }
  },
  "cells": [
    {
      "cell_type": "markdown",
      "metadata": {
        "id": "view-in-github",
        "colab_type": "text"
      },
      "source": [
        "<a href=\"https://colab.research.google.com/github/kornet79/-Colab-/blob/main/codeing.ipynb\" target=\"_parent\"><img src=\"https://colab.research.google.com/assets/colab-badge.svg\" alt=\"Open In Colab\"/></a>"
      ]
    },
    {
      "cell_type": "markdown",
      "source": [
        "파이썬은 뛰어쓰기 조심!\n",
        "print문장은 화면에 출력해주는 명령어"
      ],
      "metadata": {
        "id": "3nuRkJ4rtD1i"
      }
    },
    {
      "cell_type": "code",
      "execution_count": null,
      "metadata": {
        "id": "HEvE2Dyqr6A7"
      },
      "outputs": [],
      "source": [
        "print('나의 첫 파이썬 코드')"
      ]
    },
    {
      "cell_type": "markdown",
      "source": [
        "변수 "
      ],
      "metadata": {
        "id": "vob8zKGRwPEN"
      }
    },
    {
      "cell_type": "code",
      "source": [
        "name = '홍길동' # 문자 \n",
        "age = 17 # 숫자\n",
        "print('안녕하세요 난 ' , name , age)"
      ],
      "metadata": {
        "id": "2EQF2NZxthSB"
      },
      "execution_count": null,
      "outputs": []
    },
    {
      "cell_type": "code",
      "source": [
        "1 #연산자\n",
        "a = 5 \n",
        "b = 3\n",
        "print(a%b) # 나머지를 구하는 연산자 \n",
        "\n",
        "\n"
      ],
      "metadata": {
        "id": "kE6lAMyU_1F3"
      },
      "execution_count": null,
      "outputs": []
    },
    {
      "cell_type": "code",
      "source": [
        "a = 5\n",
        "b = 4\n",
        "print(a == b) # 같은지 비교 하는 연산자 == \n",
        "print(a != b) # 같지 않은지 비교하는 연산자 !="
      ],
      "metadata": {
        "id": "pjpbSAPtw4D4"
      },
      "execution_count": null,
      "outputs": []
    },
    {
      "cell_type": "code",
      "source": [
        "a = 5\n",
        "b = 10\n",
        "\n",
        "\n",
        "#\n",
        "#\n",
        "#\n",
        "print(b, a) # 서로가 반대가 돼게"
      ],
      "metadata": {
        "id": "XPRu_FGoBNBP"
      },
      "execution_count": null,
      "outputs": []
    },
    {
      "cell_type": "code",
      "source": [
        "str = 'hello'"
      ],
      "metadata": {
        "id": "yEhT1h2pb-74"
      },
      "execution_count": null,
      "outputs": []
    },
    {
      "cell_type": "code",
      "source": [
        "print(str)"
      ],
      "metadata": {
        "id": "7f6CreuRc2bK"
      },
      "execution_count": null,
      "outputs": []
    },
    {
      "cell_type": "code",
      "source": [
        "student = ['김규민' , '홍길동', 100]\n",
        "print(student[2])\n",
        "student.pop(1)\n",
        "print(student)"
      ],
      "metadata": {
        "id": "9wR65kAQdH1o"
      },
      "execution_count": null,
      "outputs": []
    },
    {
      "cell_type": "code",
      "source": [
        "#만약에 1번의 이름,국어,영어,정보 성적을 보관\n",
        "#2번의 이름 국어,영어,정보\n",
        "s1 = ['김개똥',100,50,70]\n",
        "s2 = ['홍길도',60,70,100]\n",
        "\n",
        "cls = [s1, s2] # 리스트에 (배열) 안에 리스트를 넣을수 있음 => 2차원 리스트 (배열)\n",
        "a1 = (cls[0]) # 김개똥의 뱌ㅐ열\n",
        "print(a1[1]) # 김개똥의 국어 점수\n",
        "print(cls[0][1])\n",
        "print(type(cls))\n",
        "\n",
        "#배열과 리스트가 같을가?? = > 배열은 크기가 고정 =변경불가 ,리스트는 변함"
      ],
      "metadata": {
        "id": "2E9A_PzcjEr5"
      },
      "execution_count": null,
      "outputs": []
    },
    {
      "cell_type": "code",
      "source": [
        "#여기만 실행하면 안됨.\n",
        "#type(변수) = 변수의 타입 (자료의 형태를 출력)\n",
        "\n",
        "print( type (cls)  ) # cls 자료형\n",
        "run = 3\n",
        "print(type (run) )\n"
      ],
      "metadata": {
        "id": "iT9BSobZpnaA"
      },
      "execution_count": null,
      "outputs": []
    },
    {
      "cell_type": "code",
      "source": [
        "print('이름을 입력하세요')\n",
        "name = input() #입력하기 기능\n",
        "print('hello',name )\n",
        "\n",
        "print( f'hello {name}') # f ' 시작하는 포멧팅을 이용해서 변수를 안에 표현할수있음\n",
        "\n",
        "\n"
      ],
      "metadata": {
        "id": "UH_XRtuOrNx3"
      },
      "execution_count": null,
      "outputs": []
    },
    {
      "cell_type": "code",
      "source": [],
      "metadata": {
        "id": "oQetZb2rsEhG"
      },
      "execution_count": null,
      "outputs": []
    },
    {
      "cell_type": "code",
      "source": [
        "# 번 문제 \n",
        "year = [2011, 2012, 2013, 2014, 2015, 2016, 2017, 2018]\n",
        "population = [10249679, 10195318, 10143645, 10103233, 10022181, 9930616, 9857426, 9838892]\n",
        " \n",
        "print(year[-3:])\n",
        "print(population[-3:])\n",
        "\n",
        "# 2번 문제\n",
        "n = -32, 75, 97, -10, 9, 32, 4, -15, 0, 76, 14, 2\n",
        " \n",
        "print (n[1::2])\n",
        "\n",
        "# =1,2,3,4,5,6,7,8,9 3번 문제 아 ' ' 어캐 느지\n",
        "x,\n",
        "print(x[0:7])"
      ],
      "metadata": {
        "id": "uRN0vMNsmRtF"
      },
      "execution_count": null,
      "outputs": []
    },
    {
      "cell_type": "code",
      "source": [
        "# if 문장 목습 fir 문 연게\n",
        "# if  조건문 조건이 참이면 수행할 내용 작성\n",
        "\n",
        "a = 4 \n",
        "if a > 5 :\n",
        "  print('큰수')\n",
        "  print(\"입니다.\")\n",
        "else: #참이 아닌경우는 이아래 명령어 수행\n",
        "  print('작은수')\n",
        "  print('입니다')\n",
        "\n",
        "\n"
      ],
      "metadata": {
        "id": "GRcivNQ57xaq"
      },
      "execution_count": null,
      "outputs": []
    },
    {
      "cell_type": "code",
      "source": [
        "# 내가 생각한 슛자 맞추기\n",
        "#10번의 기회동안 숫자를 맞춤\n",
        "#10번동안 ~10번의 입력을 받아야 한다\n",
        "#10번 반복과 같은 말이다 => FOR 문이 필요\n",
        "#입력받음 => input() 필요\n",
        "#내가 입력한 숫자가 맞는지 확인 필요 => if 문 필요\n",
        "#10번 반복 할동안 검사를 매번 수행\n",
        "# for 문 안에서 입력도 받고 검사도 받고\n",
        "\n",
        " # 정답\n",
        "\n",
        "ans = 0123456789\n",
        "\n",
        "\n",
        "for i in range(10):\n",
        "   \n",
        "  num = int(input('정답은? ')) # 입력문자를 수자로 변환한다\n",
        "# ans 랑 num 이라 같은지 if 문을 사용하여 검사\n",
        "  if ans == num :\n",
        "    print('정답')\n",
        "    break # 정답 이면 반복문 빠져 나가기\n",
        "  elif ans > num:\n",
        "    print('UP')\n",
        "  else:\n",
        "    print('Down')\n",
        "\n",
        "\n"
      ],
      "metadata": {
        "id": "3uxYibAcCaBY"
      },
      "execution_count": null,
      "outputs": []
    },
    {
      "cell_type": "code",
      "source": [
        "#숫자를 입력 받기 n 이라하자\n",
        "# 반복문 필요 => for ~~~~\n",
        "#반복하면서 숫자가 짝수인지 검사 %2 = 0\n",
        "#합을 보관하는 변수를 만들자\n",
        "#만든 변수에 누을 해보자\n",
        "\n",
        "\n",
        "n = int(input('숫자를입력하세요: '))\n",
        "\n",
        "sum = 0\n",
        "for k in range(1, n+1):\n",
        "    if k%2 == 0:\n",
        "        sum = sum+k\n",
        "print(sum)"
      ],
      "metadata": {
        "id": "CfSv30h_CaHf"
      },
      "execution_count": null,
      "outputs": []
    },
    {
      "cell_type": "code",
      "source": [
        "n = int(input('숫자를입력하세요: '))\n",
        "\n",
        "sum = 0\n",
        "for k in range(2, n+1 , 2):\n",
        "  sum = sum+k\n",
        "print(sum)"
      ],
      "metadata": {
        "id": "ECHT_461CaNP"
      },
      "execution_count": null,
      "outputs": []
    },
    {
      "cell_type": "code",
      "source": [
        "n = int(input('숫자를입력하세요: '))\n",
        "\n",
        "sum = 0\n",
        "\n",
        "if n%2 != 0:\n",
        "  n=n-1 # 짝수로 만듬\n",
        "mid = int(n/2) +1\n",
        "sum = ( (n+2 ) * int(n/4) ) + mid\n",
        "print(sum)"
      ],
      "metadata": {
        "id": "X7ZBHKAJCaSo"
      },
      "execution_count": null,
      "outputs": []
    },
    {
      "cell_type": "code",
      "source": [
        "# 가위1 바위2 보3\n",
        "#\n",
        "me = int(input(\"나는 뭐 낼래? 가위 1 바위 2 보 3: \"))\n",
        "com = int(input(\"컴퓨터는 뭐 낼래? 가위 1 바위 2 보 3: \"))\n",
        "\n",
        "가위 = 1\n",
        "묵 = 2\n",
        "보 = 3\n",
        "if me ==com:\n",
        "  print(\"비김\")\n",
        "if me == (1 and com == 3)or(me ==2 and com ==1)or (me ==3 and com ==2):\n",
        "  print(\"승리\")\n",
        "else:\n",
        "  print(\"졌다\")\n",
        "\n",
        "\n",
        "\n",
        "#나와 컴의 비교를 하여 승 패 를 판단하여 출력하기"
      ],
      "metadata": {
        "id": "u0a254URqX9L"
      },
      "execution_count": null,
      "outputs": []
    },
    {
      "cell_type": "code",
      "source": [
        "n = int(input())\n",
        "if n<0 :\n",
        "  if n%2==0 :\n",
        "    print('A')      #주의 : 변수 A와 문자열 'A' / \"A\" 는 의미가 완전히 다르다. \n",
        "  else :\n",
        "    print('B')\n",
        "else :\n",
        "  if n%2==0 :\n",
        "    print('C')\n",
        "  else :\n",
        "    print('D')"
      ],
      "metadata": {
        "id": "Ctfs3P68qX_z"
      },
      "execution_count": null,
      "outputs": []
    },
    {
      "cell_type": "code",
      "source": [
        "n = int(input())\n",
        "if n>=90 :\n",
        "  print('A')\n",
        "else :\n",
        "  if n>=70 :\n",
        "    print('B')\n",
        "  else :\n",
        "    if n>=40 :\n",
        "      print('C')\n",
        "    else :\n",
        "      print('D') "
      ],
      "metadata": {
        "id": "wUQpRWSPqYCi"
      },
      "execution_count": null,
      "outputs": []
    },
    {
      "cell_type": "code",
      "source": [
        "a = input()\n",
        "\n",
        "if (a == \"A\"):\n",
        "    print(\"best!!!\")\n",
        "elif (a == \"B\"):\n",
        "    print(\"good!!\")\n",
        "elif (a == \"C\"):\n",
        "    print(\"run!\")\n",
        "elif (a == \"D\"):\n",
        "    print(\"slowly~\")\n",
        "else:\n",
        "    print(\"what?\")"
      ],
      "metadata": {
        "id": "ZPemdf2KqYFC"
      },
      "execution_count": null,
      "outputs": []
    },
    {
      "cell_type": "code",
      "source": [
        "n = int(input())\n",
        "if n//3==0 :\n",
        "  print(\"winter\")\n",
        "if n//3==4 :\n",
        "  print(\"winter\")\n",
        "if n//3==1 :\n",
        "  print(\"spring\")\n",
        "if n//3==2 :\n",
        "  print(\"summer\")\n",
        "if n//3==3 :\n",
        "  print(\"fall\")"
      ],
      "metadata": {
        "id": "TJzAFXHMqYHs"
      },
      "execution_count": null,
      "outputs": []
    },
    {
      "cell_type": "code",
      "source": [
        "n = 1      #처음 조건 검사를 통과하기 위해 0 아닌 값을 임의로 저장\n",
        "while n!=0 :\n",
        "  n = int(input())\n",
        "  if n!=0 :\n",
        "    print(n)"
      ],
      "metadata": {
        "id": "aljKCIzIqYKP"
      },
      "execution_count": null,
      "outputs": []
    },
    {
      "cell_type": "code",
      "source": [
        "n = int(input())\n",
        "while n!=0 :\n",
        "  print(n)\n",
        "  n = (n-1)\n",
        "  "
      ],
      "metadata": {
        "id": "lM9qd8KbqYM4"
      },
      "execution_count": null,
      "outputs": []
    },
    {
      "cell_type": "code",
      "source": [
        "c = ord(input())\n",
        "t = ord(\"0\")\n",
        "while t<=c :\n",
        "  print(chr(t))\n",
        "  t += 1\n"
      ],
      "metadata": {
        "id": "P15U0rHrqYPO",
        "colab": {
          "base_uri": "https://localhost:8080/",
          "height": 266
        },
        "outputId": "8cfef0e1-6a52-4183-a78c-a491404412fe"
      },
      "execution_count": null,
      "outputs": [
        {
          "name": "stdout",
          "output_type": "stream",
          "text": [
            "15\n"
          ]
        },
        {
          "output_type": "error",
          "ename": "TypeError",
          "evalue": "ignored",
          "traceback": [
            "\u001b[0;31m---------------------------------------------------------------------------\u001b[0m",
            "\u001b[0;31mTypeError\u001b[0m                                 Traceback (most recent call last)",
            "\u001b[0;32m<ipython-input-6-bd7e63fb2991>\u001b[0m in \u001b[0;36m<cell line: 1>\u001b[0;34m()\u001b[0m\n\u001b[0;32m----> 1\u001b[0;31m \u001b[0mc\u001b[0m \u001b[0;34m=\u001b[0m \u001b[0mord\u001b[0m\u001b[0;34m(\u001b[0m\u001b[0minput\u001b[0m\u001b[0;34m(\u001b[0m\u001b[0;34m)\u001b[0m\u001b[0;34m)\u001b[0m\u001b[0;34m\u001b[0m\u001b[0;34m\u001b[0m\u001b[0m\n\u001b[0m\u001b[1;32m      2\u001b[0m \u001b[0mt\u001b[0m \u001b[0;34m=\u001b[0m \u001b[0mord\u001b[0m\u001b[0;34m(\u001b[0m\u001b[0;34m\"0\"\u001b[0m\u001b[0;34m)\u001b[0m\u001b[0;34m\u001b[0m\u001b[0;34m\u001b[0m\u001b[0m\n\u001b[1;32m      3\u001b[0m \u001b[0;32mwhile\u001b[0m \u001b[0mt\u001b[0m\u001b[0;34m<=\u001b[0m\u001b[0mc\u001b[0m \u001b[0;34m:\u001b[0m\u001b[0;34m\u001b[0m\u001b[0;34m\u001b[0m\u001b[0m\n\u001b[1;32m      4\u001b[0m   \u001b[0mprint\u001b[0m\u001b[0;34m(\u001b[0m\u001b[0mchr\u001b[0m\u001b[0;34m(\u001b[0m\u001b[0mt\u001b[0m\u001b[0;34m)\u001b[0m\u001b[0;34m)\u001b[0m\u001b[0;34m\u001b[0m\u001b[0;34m\u001b[0m\u001b[0m\n\u001b[1;32m      5\u001b[0m   \u001b[0mt\u001b[0m \u001b[0;34m+=\u001b[0m \u001b[0;36m1\u001b[0m\u001b[0;34m\u001b[0m\u001b[0;34m\u001b[0m\u001b[0m\n",
            "\u001b[0;31mTypeError\u001b[0m: ord() expected a character, but string of length 2 found"
          ]
        }
      ]
    },
    {
      "cell_type": "code",
      "source": [
        "in_str = input(\"로그인 하시겠습니까? 아니면 회원가입 하시겠습니까?: \\n\") # 둘중하나 선택 가능\n",
        "id = [] # 아이디를 담을 수 있는 배열\n",
        "pw = [] # 비밀 번호를 담을수 있는 배열\n",
        "tu = [] # 비밀 번호 와 아이디 가 일치한지 여부 확인을 할수 있는 배열\n",
        "i = 0 # 담을수 있는 변수 하나 만들기\n",
        "\n",
        "while in_str == \"회원가입\": # 입력 값이 만약 회원가입 이라면 \n",
        "\n",
        "  new_id = input(\"아이디를 입력 하세요: \\n\") # new_id 라는 변수에 새로운 아이디를 이렵 하게 한다\n",
        "\n",
        "  for member in id:\n",
        "    while member == new_id: # 이미 존재하는 아이디 인지 여부 확인\n",
        "      print(new_id + \"아이디 는 이미 존재 하는 아이디 입니다.\")\n",
        "      new_id = input(\"다시 입력해주세요: \") # 다른 아이디를 입력할떄 까지 반복 \n",
        "  new_pw = input(\"비밀번호를 입력해주세요: \")\n",
        "  id.append(new_id) # 아이디 를 id 배열 값에 넣기\n",
        "  pw.append(new_pw) # 비밀번호 를 pw 배열 값에 넣기\n",
        "  print(\"회워가입 이 완료 되었습니다.\\n\"  \"아이디는 \" +new_id+ \" 입니다 비밀번호는 \" + new_pw + \" 입니다\")\n",
        "  break\n",
        "  # 회원 가입 부분 \n",
        "in_str = input(\"로그인 하시겠습니까? 아니면 회원가입 하시겠습니까?: \\n\")\n",
        "while in_str == \"로그인\":\n",
        "  \n",
        "\n",
        "  \n",
        "\n",
        "\n",
        "\n",
        "\n",
        "\n",
        "\n",
        "\n",
        "\n",
        "\n",
        "\n"
      ],
      "metadata": {
        "id": "yXk4kB0iqYRq"
      },
      "execution_count": null,
      "outputs": []
    },
    {
      "cell_type": "code",
      "source": [
        "in_str = input(\"로그인 하시겠습니까? 아니면 회원가입 하시겠습니까?: \\n\") # 둘중하나 선택 가능\n",
        "id = [] # 아이디를 담을 수 있는 배열\n",
        "pw = [] # 비밀 번호를 담을수 있는 배열\n",
        "tu = [] # 비밀 번호 와 아이디 가 일치한지 여부 확인을 할수 있는 배열\n",
        "i = 0 # 담을수 있는 변수 하나 만들기\n",
        "\n",
        "while in_str == \"회원가입\": # 입력 값이 만약 회원가입 이라면 \n",
        "\n",
        "  new_id = input(\"새로 만드실 아이디를 입력 하세요: \\n\") # new_id 라는 변수에 새로운 아이디를 이렵 하게 한다\n",
        "\n",
        "  for member in id:\n",
        "    while member == new_id: # 이미 존재하는 아이디 인지 여부 확인\n",
        "      print(new_id + \"아이디 는 이미 존재 하는 아이디 입니다.\")\n",
        "      new_id = input(\"다시 입력해주세요: \") # 다른 아이디를 입력할떄 까지 반복 \n",
        "  new_pw = input(\"새로 만드실 비밀번호를 입력해주세요: \")\n",
        "  id.append(new_id) # 아이디 를 id 배열 값에 넣기\n",
        "  pw.append(new_pw) # 비밀번호 를 pw 배열 값에 넣기\n",
        "  print(\"회워가입 이 완료 되었습니다.\\n\"  \"아이디는 \" +new_id+ \" 입니다 비밀번호는 \" + new_pw + \" 입니다\")\n",
        "\n",
        "  # ======================= 회원가입 부분=========================\n",
        "# 아이디 확인\n",
        "  in_str = input(\"로그인 하시겠습니까? 아니면 회원가입 하시겠습니까?: \\n\") # 로그인 창으로 넘어 갈시\n",
        "whatid = input(\"기존 아이디를 입력해주세요: \") # 새로운 변수에 임시로 id 저장\n",
        "for mem in id: \n",
        "    if mem==whatid: # 메모리 안에있는 아이디  맞는지 비교\n",
        "        a.append(i) # 맞다면 a 배열에 추가\n",
        "    i=i+1\n",
        "while len(a) == 0: # a 배열 안에 있는 값이 없다면 (하마디로 틀리면 아래 문장 실행)\n",
        "    print(\"기존 아이디가 존재하지 않습니다.\") # 없다고 알림\n",
        "    whatid = input(\"기존 아이디를 다시 입력해주세요: \") # 다시 작성 \n",
        "    i=0 # 게속 없다면 무한 반복\n",
        "    for mem in id: #맞다면 위와 같이 a 배열에 추가\n",
        "        if mem==whatid:\n",
        "            a.append(i)\n",
        "        i=i+1 # 아이디 부분 완료 하면 비밀번호 쪾으로 이동!\n",
        "#비밀번호 확인 \n",
        "whatpw = input(\"기존 비밀번호를 입력해주세요: \") # 새로운 변수에 임시로 비밀번호 저장\n",
        "while whatpw != pw[a[0]]: # 임시로 저장한 비밀번호 의 값이 pw 배열 안에 있는 비밀번호와 맞는지 확인\n",
        "    print(\"기존 비밀번호가 일치하지 않습니다.\") # 틀리면 이치하지 않는다고 말함\n",
        "    whatpw = input(\"비밀번호를 다시입력해주세요: \") # 새로운 변수 값에 다시 입력하라고 함\n",
        "    # 규민이 참고 pw(a[0]) 여기서 a 를 쓴 이유는 a 리스트의 첫 번째 원소에 해당하는 인덱스에 위치한 비밀번호를 가져올려고 했기 떄문이다\n",
        "print(\"로그인 되셨습니다.\") # 아이디,비밀번호 가 모두 조건을 충족 했을떄 로그인 완료 표시 출력!\n",
        "  \n",
        "\n"
      ],
      "metadata": {
        "colab": {
          "base_uri": "https://localhost:8080/"
        },
        "id": "haRG_LtAgCOw",
        "outputId": "9d9a2002-5237-4c4c-e83e-6a77bf5113a8"
      },
      "execution_count": 34,
      "outputs": [
        {
          "output_type": "stream",
          "name": "stdout",
          "text": [
            "로그인 하시겠습니까? 아니면 회원가입 하시겠습니까?: \n",
            "회원가입\n",
            "새로 만드실 아이디를 입력 하세요: \n",
            "kornet79\n",
            "새로 만드실 비밀번호를 입력해주세요: kky7530874@\n",
            "회워가입 이 완료 되었습니다.\n",
            "아이디는 kornet79 입니다 비밀번호는 kky7530874@ 입니다\n",
            "로그인 하시겠습니까? 아니면 회원가입 하시겠습니까?: \n",
            "로그인\n",
            "기존 아이디를 입력해주세요: kornet79\n",
            "기존 비밀번호를 입력해주세요: kky7530874@\n",
            "로그인 되셨습니다.\n"
          ]
        }
      ]
    },
    {
      "cell_type": "code",
      "source": [
        "in_str = input(\"회원가입하시겠습니까 아니면 로그인하시겠습니까?(회원가입/로그인)\")\n",
        "id=[]  #회원가입하면 저장될 아이디 리스트\n",
        "pw=[]  #회원가입하면 저장될 비번 리스트\n",
        "a=[] #a=입력아이디와 아이디 일치개수 확인\n",
        "i=0\n",
        "while in_str==\"회원가입\":\n",
        "    new_id = input(\"아이디을 입력해주세요\\n\")\n",
        "    for member in id:\n",
        "        while member==new_id:\n",
        "            print(new_id+\"라는 아이디가 이미 존재합니다.\")\n",
        "            new_id = input(\"다시 입력해주세요.\\n\")\n",
        "    new_pw = input(\"비밀번호를 입력해주세요\\n\")\n",
        "    id.append(new_id)\n",
        "    pw.append(new_pw)\n",
        "    print(\"회원가입이 완료 되었습니다.\\n 아이디는 \"+new_id+\" 이고 비밀번호는 \"+new_pw+\" 입니다\")\n",
        "    in_str = input(\"회원가입이 완료 돼었습니다 로그인하시겠습니까?(로그인)\")\n",
        "whatid = input(\"아이디를 입력해주세요: \")\n",
        "for mem in id:\n",
        "    if mem==whatid:\n",
        "        a.append(i)\n",
        "    i=i+1\n",
        "while len(a) == 0:\n",
        "    print(\"아이디가 존재하지 않습니다.\")\n",
        "    whatid = input(\"아이디를 다시 입력해주세요\")\n",
        "    i=0\n",
        "    for mem in id:\n",
        "        if mem==whatid:\n",
        "            a.append(i)\n",
        "        i=i+1\n",
        "whatpw = input(\"비밀번호를 입력해주세요\")\n",
        "while whatpw != pw[a[0]]:\n",
        "    print(\"비밀번호가 일치하지 않습니다.\")\n",
        "    whatpw = input(\"비밀번호를 다시입력해주세요\")\n",
        "print(\"로그인 되셨습니다.\")"
      ],
      "metadata": {
        "colab": {
          "base_uri": "https://localhost:8080/",
          "height": 455
        },
        "id": "vy9KUT8Saa-R",
        "outputId": "3b73838f-dab8-4e15-a7d2-1de10ed4a694"
      },
      "execution_count": 38,
      "outputs": [
        {
          "output_type": "stream",
          "name": "stdout",
          "text": [
            "회원가입하시겠습니까 아니면 로그인하시겠습니까?(회원가입/로그인)로그인\n",
            "아이디를 입력해주세요: kornet79\n",
            "아이디가 존재하지 않습니다.\n"
          ]
        },
        {
          "output_type": "error",
          "ename": "KeyboardInterrupt",
          "evalue": "ignored",
          "traceback": [
            "\u001b[0;31m---------------------------------------------------------------------------\u001b[0m",
            "\u001b[0;31mKeyboardInterrupt\u001b[0m                         Traceback (most recent call last)",
            "\u001b[0;32m<ipython-input-38-b0a1a799fe7b>\u001b[0m in \u001b[0;36m<cell line: 22>\u001b[0;34m()\u001b[0m\n\u001b[1;32m     22\u001b[0m \u001b[0;32mwhile\u001b[0m \u001b[0mlen\u001b[0m\u001b[0;34m(\u001b[0m\u001b[0ma\u001b[0m\u001b[0;34m)\u001b[0m \u001b[0;34m==\u001b[0m \u001b[0;36m0\u001b[0m\u001b[0;34m:\u001b[0m\u001b[0;34m\u001b[0m\u001b[0;34m\u001b[0m\u001b[0m\n\u001b[1;32m     23\u001b[0m     \u001b[0mprint\u001b[0m\u001b[0;34m(\u001b[0m\u001b[0;34m\"아이디가 존재하지 않습니다.\"\u001b[0m\u001b[0;34m)\u001b[0m\u001b[0;34m\u001b[0m\u001b[0;34m\u001b[0m\u001b[0m\n\u001b[0;32m---> 24\u001b[0;31m     \u001b[0mwhatid\u001b[0m \u001b[0;34m=\u001b[0m \u001b[0minput\u001b[0m\u001b[0;34m(\u001b[0m\u001b[0;34m\"아이디를 다시 입력해주세요\"\u001b[0m\u001b[0;34m)\u001b[0m\u001b[0;34m\u001b[0m\u001b[0;34m\u001b[0m\u001b[0m\n\u001b[0m\u001b[1;32m     25\u001b[0m     \u001b[0mi\u001b[0m\u001b[0;34m=\u001b[0m\u001b[0;36m0\u001b[0m\u001b[0;34m\u001b[0m\u001b[0;34m\u001b[0m\u001b[0m\n\u001b[1;32m     26\u001b[0m     \u001b[0;32mfor\u001b[0m \u001b[0mmem\u001b[0m \u001b[0;32min\u001b[0m \u001b[0mid\u001b[0m\u001b[0;34m:\u001b[0m\u001b[0;34m\u001b[0m\u001b[0;34m\u001b[0m\u001b[0m\n",
            "\u001b[0;32m/usr/local/lib/python3.9/dist-packages/ipykernel/kernelbase.py\u001b[0m in \u001b[0;36mraw_input\u001b[0;34m(self, prompt)\u001b[0m\n\u001b[1;32m    849\u001b[0m                 \u001b[0;34m\"raw_input was called, but this frontend does not support input requests.\"\u001b[0m\u001b[0;34m\u001b[0m\u001b[0;34m\u001b[0m\u001b[0m\n\u001b[1;32m    850\u001b[0m             )\n\u001b[0;32m--> 851\u001b[0;31m         return self._input_request(str(prompt),\n\u001b[0m\u001b[1;32m    852\u001b[0m             \u001b[0mself\u001b[0m\u001b[0;34m.\u001b[0m\u001b[0m_parent_ident\u001b[0m\u001b[0;34m,\u001b[0m\u001b[0;34m\u001b[0m\u001b[0;34m\u001b[0m\u001b[0m\n\u001b[1;32m    853\u001b[0m             \u001b[0mself\u001b[0m\u001b[0;34m.\u001b[0m\u001b[0m_parent_header\u001b[0m\u001b[0;34m,\u001b[0m\u001b[0;34m\u001b[0m\u001b[0;34m\u001b[0m\u001b[0m\n",
            "\u001b[0;32m/usr/local/lib/python3.9/dist-packages/ipykernel/kernelbase.py\u001b[0m in \u001b[0;36m_input_request\u001b[0;34m(self, prompt, ident, parent, password)\u001b[0m\n\u001b[1;32m    893\u001b[0m             \u001b[0;32mexcept\u001b[0m \u001b[0mKeyboardInterrupt\u001b[0m\u001b[0;34m:\u001b[0m\u001b[0;34m\u001b[0m\u001b[0;34m\u001b[0m\u001b[0m\n\u001b[1;32m    894\u001b[0m                 \u001b[0;31m# re-raise KeyboardInterrupt, to truncate traceback\u001b[0m\u001b[0;34m\u001b[0m\u001b[0;34m\u001b[0m\u001b[0m\n\u001b[0;32m--> 895\u001b[0;31m                 \u001b[0;32mraise\u001b[0m \u001b[0mKeyboardInterrupt\u001b[0m\u001b[0;34m(\u001b[0m\u001b[0;34m\"Interrupted by user\"\u001b[0m\u001b[0;34m)\u001b[0m \u001b[0;32mfrom\u001b[0m \u001b[0;32mNone\u001b[0m\u001b[0;34m\u001b[0m\u001b[0;34m\u001b[0m\u001b[0m\n\u001b[0m\u001b[1;32m    896\u001b[0m             \u001b[0;32mexcept\u001b[0m \u001b[0mException\u001b[0m \u001b[0;32mas\u001b[0m \u001b[0me\u001b[0m\u001b[0;34m:\u001b[0m\u001b[0;34m\u001b[0m\u001b[0;34m\u001b[0m\u001b[0m\n\u001b[1;32m    897\u001b[0m                 \u001b[0mself\u001b[0m\u001b[0;34m.\u001b[0m\u001b[0mlog\u001b[0m\u001b[0;34m.\u001b[0m\u001b[0mwarning\u001b[0m\u001b[0;34m(\u001b[0m\u001b[0;34m\"Invalid Message:\"\u001b[0m\u001b[0;34m,\u001b[0m \u001b[0mexc_info\u001b[0m\u001b[0;34m=\u001b[0m\u001b[0;32mTrue\u001b[0m\u001b[0;34m)\u001b[0m\u001b[0;34m\u001b[0m\u001b[0;34m\u001b[0m\u001b[0m\n",
            "\u001b[0;31mKeyboardInterrupt\u001b[0m: Interrupted by user"
          ]
        }
      ]
    }
  ]
}