{
  "cells": [
    {
      "cell_type": "markdown",
      "metadata": {
        "id": "view-in-github",
        "colab_type": "text"
      },
      "source": [
        "<a href=\"https://colab.research.google.com/github/kornet79/-Colab-/blob/main/1_%ED%8C%8C%EC%9D%B4%EC%8D%AC_%EA%B8%B0%EC%B4%88.ipynb\" target=\"_parent\"><img src=\"https://colab.research.google.com/assets/colab-badge.svg\" alt=\"Open In Colab\"/></a>"
      ]
    },
    {
      "cell_type": "markdown",
      "metadata": {
        "id": "0QFeH5ZrtDgE"
      },
      "source": [
        "파이썬은 띄어쓰기 조심!\n",
        "print문장은 화면에 출력해주는 명령어"
      ]
    },
    {
      "cell_type": "code",
      "source": [],
      "metadata": {
        "id": "_VxTZgJ_JiFL"
      },
      "execution_count": null,
      "outputs": []
    },
    {
      "cell_type": "code",
      "execution_count": null,
      "metadata": {
        "colab": {
          "base_uri": "https://localhost:8080/"
        },
        "id": "fdSpiTBlr6sV",
        "outputId": "8c07348b-c439-42ab-88a0-1c20a694c3f0"
      },
      "outputs": [
        {
          "name": "stdout",
          "output_type": "stream",
          "text": [
            "my first python code!\n"
          ]
        }
      ],
      "source": [
        "print('my first python code!')"
      ]
    },
    {
      "cell_type": "markdown",
      "metadata": {
        "id": "tasejAOouzyZ"
      },
      "source": [
        "파이썬에서 변수만들기는 쉬움. 그냥 약속되지 않은 이름을 사용하면 됨."
      ]
    },
    {
      "cell_type": "code",
      "execution_count": null,
      "metadata": {
        "colab": {
          "base_uri": "https://localhost:8080/"
        },
        "id": "EazZBiastUwX",
        "outputId": "30230b84-981b-4cb8-e196-15ae5d51c82e"
      },
      "outputs": [
        {
          "name": "stdout",
          "output_type": "stream",
          "text": [
            "안녕하세요 난  홍길동 3\n"
          ]
        }
      ],
      "source": [
        "name = '홍길동' #홑따옴표로 감싸있음 => 문자열\n",
        "age = '2'  #숫자\n",
        "age = age + 1\n",
        "print('안녕하세요 난 ', name, age)"
      ]
    },
    {
      "cell_type": "code",
      "execution_count": null,
      "metadata": {
        "colab": {
          "base_uri": "https://localhost:8080/"
        },
        "id": "S09arUS1_zi9",
        "outputId": "14f820a3-f4f2-453a-8545-7ce48cf7a6d0"
      },
      "outputs": [
        {
          "name": "stdout",
          "output_type": "stream",
          "text": [
            "1.6666666666666667\n"
          ]
        }
      ],
      "source": [
        "#연산자\n",
        "a = 5\n",
        "b = 3\n",
        "print(a%b) #나머지를 구하는 연산자\n"
      ]
    },
    {
      "cell_type": "code",
      "execution_count": null,
      "metadata": {
        "colab": {
          "base_uri": "https://localhost:8080/"
        },
        "id": "C6ST3GGWAiDe",
        "outputId": "64e64a5d-7e83-4c79-da2d-53261b095f52"
      },
      "outputs": [
        {
          "name": "stdout",
          "output_type": "stream",
          "text": [
            "True\n"
          ]
        }
      ],
      "source": [
        "a = 5\n",
        "b = 2\n",
        "print(a == b)  # == 같은가. 비교연산자\n",
        "print(a != b)"
      ]
    },
    {
      "cell_type": "code",
      "execution_count": null,
      "metadata": {
        "colab": {
          "base_uri": "https://localhost:8080/"
        },
        "id": "r-i2ukVoBEwc",
        "outputId": "1e422390-886a-4a22-cf56-a6369455d424"
      },
      "outputs": [
        {
          "name": "stdout",
          "output_type": "stream",
          "text": [
            "10 5\n"
          ]
        }
      ],
      "source": [
        "a = 5\n",
        "b = 10\n",
        "\n",
        "a = a + b # 15\n",
        "b = a - b # 5\n",
        "a = a - b # 10\n",
        "\n",
        "#a, b만을 이용해서 자리바꾸기 할 수 있을까??\n",
        "#\n",
        "print(a, b)  # 서로 반대가 되게.   2 5"
      ]
    },
    {
      "cell_type": "code",
      "execution_count": null,
      "metadata": {
        "id": "acLq89nwcs2X"
      },
      "outputs": [],
      "source": [
        "str = 'hello'  #문자열"
      ]
    },
    {
      "cell_type": "code",
      "execution_count": null,
      "metadata": {
        "colab": {
          "base_uri": "https://localhost:8080/"
        },
        "id": "B2gnvLltcvfG",
        "outputId": "fcd6bef4-f67f-46cf-9bb7-226560fc8626"
      },
      "outputs": [
        {
          "name": "stdout",
          "output_type": "stream",
          "text": [
            "hello\n"
          ]
        }
      ],
      "source": [
        "print(str)"
      ]
    },
    {
      "cell_type": "code",
      "execution_count": null,
      "metadata": {
        "colab": {
          "base_uri": "https://localhost:8080/"
        },
        "id": "gqmu9i_tdHqN",
        "outputId": "3b839891-b27f-488a-c848-9bd5ef0c9640"
      },
      "outputs": [
        {
          "name": "stdout",
          "output_type": "stream",
          "text": [
            "100\n",
            "이정환\n",
            "['김개똥', 100, '이정환']\n"
          ]
        }
      ],
      "source": [
        "#우리반 학생을 저장 ( 1~ 10번)\n",
        "#방법1\n",
        "s1 = '김개똥'\n",
        "s2 = '홍길동'\n",
        "#만약 학생이 100명이라면 ? => 100의 변수가 필요\n",
        "#하나의 묶음으로 보관 =>  List (다른 언어서는 배열 array)\n",
        "\n",
        "student = ['김개똥', '홍길동', 100]  #리스트에 다른 형태의 자료형도 보관가능\n",
        "print(student[2]) #리스트 번지는 0번지 부터 시작\n",
        "\n",
        "student.append('이정환') #append 새로운 항목을 뒤에 추가할 때\n",
        "print(student[3])\n",
        "#리스트에서 쓸수 있는 기능들은 어떤게 있을까??\n",
        "\n",
        "#리스트에서 특정항목 삭제\n",
        "student.pop(1)  #1번째 항목이 삭제\n",
        "\n",
        "#다시 출력\n",
        "print(student)"
      ]
    },
    {
      "cell_type": "code",
      "execution_count": null,
      "metadata": {
        "colab": {
          "base_uri": "https://localhost:8080/"
        },
        "id": "6403Wr7ii-b6",
        "outputId": "40368742-333a-46d9-91b7-f75c267445d2"
      },
      "outputs": [
        {
          "name": "stdout",
          "output_type": "stream",
          "text": [
            "[['김개똥', 100, 50, 70], ['홍길동', 60, 70, 100]]\n"
          ]
        }
      ],
      "source": [
        "#만약 1번의 이름, 국어, 영어, 정보 성적을 보관\n",
        "#2번의 이름, 국어, 영어, 정보\n",
        "s1 = ['김개똥', 100, 50, 70]\n",
        "s2 = ['홍길동', 60, 70, 100]\n",
        "\n",
        "cls = [s1, s2]  #리스트(배열)안에 리스트를 넣을 수 있음 => 2차원 리스트(배열)\n",
        "a1 = cls[0]  #s1 = 김개똥의 배열\n",
        "print(a1[1]) #김개똥의 국어 점수\n",
        "print(cls[0][1])  \n",
        "\n",
        "#배열과 리스트 가 같을까??  => 배열은 크기가 고정= 변경불가 , 리스트는 변함\n"
      ]
    },
    {
      "cell_type": "code",
      "execution_count": null,
      "metadata": {
        "colab": {
          "base_uri": "https://localhost:8080/"
        },
        "id": "775HD6NOpfVx",
        "outputId": "d4a65d3a-9adb-4891-c09d-759b484086d2"
      },
      "outputs": [
        {
          "name": "stdout",
          "output_type": "stream",
          "text": [
            "<class 'list'>\n",
            "<class 'int'>\n"
          ]
        }
      ],
      "source": [
        "#여기만 실행하면 안됨.. \n",
        "#type(변수)  =  변수의 타입(자료의 형태를 출력)\n",
        "\n",
        "print(   type(cls)          )   #cls의 자료형\n",
        "num = 3\n",
        "print( type( num ))   \n"
      ]
    },
    {
      "cell_type": "code",
      "execution_count": null,
      "metadata": {
        "colab": {
          "base_uri": "https://localhost:8080/"
        },
        "id": "hVU_mEOLrMO-",
        "outputId": "c6e4220f-9cd2-4317-94c8-01443d64bede"
      },
      "outputs": [
        {
          "name": "stdout",
          "output_type": "stream",
          "text": [
            "이름을 입력하세요\n",
            "ghks\n",
            "hello ghks\n"
          ]
        }
      ],
      "source": [
        "#사용자 입력\n",
        "print('이름을 입력하세요') \n",
        "name = input() #입력하기 기능\n",
        "#또는 name = input('이름을 입력하세요')\n",
        "#print('hello', name)\n",
        "#print('hello' + name)\n",
        "print(f'hello {name}')   #  f' 로 시작하는 포맷팅을 이용해서 변수를 안에 표현할 수 있음.\n",
        "\n"
      ]
    },
    {
      "cell_type": "code",
      "execution_count": null,
      "metadata": {
        "colab": {
          "base_uri": "https://localhost:8080/"
        },
        "id": "mm0av5i29Ybt",
        "outputId": "beb915a1-db81-44a5-b4dc-d3a9b141c042"
      },
      "outputs": [
        {
          "name": "stdout",
          "output_type": "stream",
          "text": [
            "o\n",
            "11\n",
            "5\n"
          ]
        }
      ],
      "source": [
        "#리스트에서 관해서.. 문자열\n",
        "#String = 문자열\n",
        "str = 'hello world'\n",
        "print(str[4])  #['h','e','l'..... ] 저장되고 있음\n",
        "print(   len(str)    )  # len()  기능은 문자의 길이를 출력\n",
        "\n",
        "list = [1,2,3,4,5]  #배열의 길이를 알 수 있을까?\n",
        "print(len(list)) "
      ]
    },
    {
      "cell_type": "code",
      "execution_count": null,
      "metadata": {
        "colab": {
          "base_uri": "https://localhost:8080/"
        },
        "id": "-NwNlrwI-25z",
        "outputId": "d29f209e-962a-4c3a-d9e2-7fc241e02919"
      },
      "outputs": [
        {
          "name": "stdout",
          "output_type": "stream",
          "text": [
            "2\n",
            "3\n",
            "4\n",
            "반복중\n"
          ]
        }
      ],
      "source": [
        "#반복문 - 반복된 작업을 쉽게\n",
        "#상황 - 리스트 = [0,0,0,0,0,0,...] => 100칸 생성\n",
        "#list = [0,0 ... 0]  또는\n",
        "#list = []   list.append(0) 추가하기 100번\n",
        "\n",
        "#반복 명령어 for, while\n",
        "#for = 제한된 횟수 만큼 반복\n",
        "# k = 반복하면서 사용 변수.\n",
        "#range(범위)   0~범위-1 까지    \n",
        "for k in range(2,5):     # 2부터 5-1까지\n",
        "# :표시는 중괄호 시작이랑 같은 뜻\n",
        "  #안에 들여쓰기를 했음.\n",
        "  print(k)  #k는 0~9까지 변신\n",
        "  print('반복중')\n"
      ]
    },
    {
      "cell_type": "code",
      "execution_count": null,
      "metadata": {
        "colab": {
          "base_uri": "https://localhost:8080/"
        },
        "id": "dnVHZxmHBZ7p",
        "outputId": "d4bca475-efae-459e-b45b-d6dc4a6ce9fb"
      },
      "outputs": [
        {
          "name": "stdout",
          "output_type": "stream",
          "text": [
            "[0, 2, 4, 6, 8, 10, 12, 14, 16, 18, 20, 22, 24, 26, 28, 30, 32, 34, 36, 38, 40, 42, 44, 46, 48, 50, 52, 54, 56, 58, 60, 62, 64, 66, 68, 70, 72, 74, 76, 78, 80, 82, 84, 86, 88, 90, 92, 94, 96, 98, 100, 102, 104, 106, 108, 110, 112, 114, 116, 118, 120, 122, 124, 126, 128, 130, 132, 134, 136, 138, 140, 142, 144, 146, 148, 150, 152, 154, 156, 158, 160, 162, 164, 166, 168, 170, 172, 174, 176, 178, 180, 182, 184, 186, 188, 190, 192, 194, 196, 198]\n",
            "0\n",
            "2\n",
            "4\n",
            "6\n",
            "8\n",
            "10\n",
            "12\n",
            "14\n",
            "16\n",
            "18\n",
            "20\n",
            "22\n",
            "24\n",
            "26\n",
            "28\n",
            "30\n",
            "32\n",
            "34\n",
            "36\n",
            "38\n",
            "40\n",
            "42\n",
            "44\n",
            "46\n",
            "48\n",
            "50\n",
            "52\n",
            "54\n",
            "56\n",
            "58\n",
            "60\n",
            "62\n",
            "64\n",
            "66\n",
            "68\n",
            "70\n",
            "72\n",
            "74\n",
            "76\n",
            "78\n",
            "80\n",
            "82\n",
            "84\n",
            "86\n",
            "88\n",
            "90\n",
            "92\n",
            "94\n",
            "96\n",
            "98\n",
            "100\n",
            "102\n",
            "104\n",
            "106\n",
            "108\n",
            "110\n",
            "112\n",
            "114\n",
            "116\n",
            "118\n",
            "120\n",
            "122\n",
            "124\n",
            "126\n",
            "128\n",
            "130\n",
            "132\n",
            "134\n",
            "136\n",
            "138\n",
            "140\n",
            "142\n",
            "144\n",
            "146\n",
            "148\n",
            "150\n",
            "152\n",
            "154\n",
            "156\n",
            "158\n",
            "160\n",
            "162\n",
            "164\n",
            "166\n",
            "168\n",
            "170\n",
            "172\n",
            "174\n",
            "176\n",
            "178\n",
            "180\n",
            "182\n",
            "184\n",
            "186\n",
            "188\n",
            "190\n",
            "192\n",
            "194\n",
            "196\n",
            "198\n"
          ]
        }
      ],
      "source": [
        "# 100개의 리스트 배열을 만들고 [0,2,4,6....] 순서로 값을 초기화\n",
        "# 배열의 항목을 추가하는 명령어 append\n",
        "\n",
        "list = []\n",
        "\n",
        "#list.append(0)\n",
        "#list.append(2)\n",
        "#list.append(4)\n",
        "\n",
        "#for 변수 in  범위:\n",
        "# 반복내용\n",
        "for n in range(0, 200, 2):  #0~200까지 2씩 커짐...  \n",
        "#for(int i = 0 ; i < 200 ; i = i+2)\n",
        "  #n = 0 ,1,2,...99\n",
        "  #list.append(n*2)\n",
        "  list.append(n)\n",
        "\n",
        "###############\n",
        "#... 100번\n",
        "print(list)\n",
        "#[0,2,4,6,8....   198]\n",
        "\n",
        "for k in list:\n",
        "  print(k)\n",
        "\n",
        "\n"
      ]
    },
    {
      "cell_type": "code",
      "execution_count": null,
      "metadata": {
        "colab": {
          "base_uri": "https://localhost:8080/"
        },
        "id": "OMUetqKpGrZc",
        "outputId": "e91465d0-d6c2-423b-a7b7-019ff75f2c84"
      },
      "outputs": [
        {
          "name": "stdout",
          "output_type": "stream",
          "text": [
            "숫자를 입력하세요3\n",
            "333\n",
            "9\n"
          ]
        }
      ],
      "source": [
        "#for는 반복문 => 똑같은 작업을 할 수 있도록 횟수를 지정하는 반복문\n",
        "\n",
        "n = input('숫자를 입력하세요')\n",
        "print(n*3) #input으로 받은 값은 문자로 처리됨\n",
        "k = int(n)  #int 타입 = 정수값으로 변경\n",
        "print(k*3)\n",
        "## ==>>>>      n = int(input('숫자입력'))\n",
        "\n",
        "\n"
      ]
    },
    {
      "cell_type": "code",
      "execution_count": null,
      "metadata": {
        "colab": {
          "base_uri": "https://localhost:8080/"
        },
        "id": "SCUQIyrdh7bg",
        "outputId": "5415ae70-4fa1-4e7b-f0e5-9a9de0c08b53"
      },
      "outputs": [
        {
          "name": "stdout",
          "output_type": "stream",
          "text": [
            "숫자입력5\n",
            "5 * 1 = 5\n",
            "5 * 2 = 10\n",
            "5 * 3 = 15\n",
            "5 * 4 = 20\n",
            "5 * 1 = 5\n",
            "5 * 2 = 10\n",
            "5 * 3 = 15\n",
            "5 * 4 = 20\n",
            "5 * 5 = 25\n",
            "5 * 6 = 30\n",
            "5 * 7 = 35\n",
            "5 * 8 = 40\n",
            "5 * 9 = 45\n"
          ]
        }
      ],
      "source": [
        "#진짜 입력 받은 숫자를 가지고 구구단 만들기\n",
        "#입력하는 단의 구구단 출력\n",
        "#예)   3입력 => 3*1= 3 ..... 3*9 = 27\n",
        "\n",
        "n =  int( input('숫자입력')  )  # 내가 원하는 숫자 입력\n",
        "\n",
        "#3 * 1 = 3\n",
        "print(f'{n} * 1 = {n*1}')   #{}는 안에 있는 변수의 값을 출력\n",
        "print(f'{n} * 2 = {n*2}')\n",
        "print(f'{n} * 3 = {n*3}')\n",
        "print(f'{n} * 4 = {n*4}')\n",
        "\n",
        "for i in range(1, 10):    #1~10 전까지 = 1~9   # 콜론 :  붙이도록\n",
        "  #반복할 작업은 탭만큼 들여써서 작성\n",
        "  print(f'{n} * {i} = {n*i}')"
      ]
    },
    {
      "cell_type": "code",
      "execution_count": null,
      "metadata": {
        "id": "-GpPClbooCPa"
      },
      "outputs": [],
      "source": []
    },
    {
      "cell_type": "markdown",
      "metadata": {
        "id": "0Tcbae7ks6Dg"
      },
      "source": [
        "![image.png](data:image/png;base64,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)"
      ]
    },
    {
      "cell_type": "code",
      "execution_count": null,
      "metadata": {
        "colab": {
          "base_uri": "https://localhost:8080/"
        },
        "id": "NxGx5B2cs95U",
        "outputId": "fc9ca24e-5c33-4934-ad9d-501491a6e9ee"
      },
      "outputs": [
        {
          "name": "stdout",
          "output_type": "stream",
          "text": [
            "숫자 입력9\n",
            "1\n",
            "2\n",
            "X\n",
            "4\n",
            "5\n",
            "X\n",
            "7\n",
            "8\n",
            "X\n"
          ]
        }
      ],
      "source": [
        "#  1~  입력수 n 까지 369게임   ( n = 2~9)\n",
        "#  3,6,9에는 대문자 X를 출력  \n",
        "# 그리고 숫자마다 공백\n",
        "\n",
        "# 0. 사용자 입력을 숫자로 받기\n",
        "# 1. 1부터 입력수 까지 출력 =>   for문 필요\n",
        "# 2. 3,6,9 인지 판단 하여 X로 변환\n",
        "\n",
        "k = int(   input('숫자 입력')         )\n",
        "for i in range(1, k+1):\n",
        "  #i 는   1부터 k까지 나옴...\n",
        "  \n",
        "  #if 조건 :   => 참인지 검사\n",
        "  # 참이라면 수행할 내용\n",
        "  #if i 가 3이랑 같은가  \n",
        "  if i == 3 :  #등호를 하나만 쓰면,   <-  복사,      == 비교하는것\n",
        "    #들여쓰기 조심\n",
        "    print('X')\n",
        "  else:  #그 밖에  if와 같이 사용됨. if는 혼자 쓸수 있지만, else 혼자 사용 불가\n",
        "    #들여쓰기 조심\n",
        "    if i == 6 :\n",
        "      print('X')\n",
        "    else:\n",
        "      if i == 9:\n",
        "        print('X')\n",
        "      else:\n",
        "        print(i)\n"
      ]
    },
    {
      "cell_type": "code",
      "execution_count": null,
      "metadata": {
        "colab": {
          "base_uri": "https://localhost:8080/"
        },
        "id": "mnoSWSIzx75H",
        "outputId": "95de29ae-90f9-4ee7-cc7f-4a52bf629c20"
      },
      "outputs": [
        {
          "name": "stdout",
          "output_type": "stream",
          "text": [
            "숫자10\n",
            "1\n",
            "2\n",
            "X\n",
            "4\n",
            "5\n",
            "X\n",
            "7\n",
            "8\n",
            "X\n",
            "10\n"
          ]
        }
      ],
      "source": [
        "# 나머지 연산자 알기\n",
        "n = int(input('숫자'))\n",
        "\n",
        "for i in range(1, n+1):\n",
        "  #만약 3으로 나누어 떨어지는가 ==  나머지가 0인가\n",
        "  #  % = 나머지 연산자 =>      10 % 3 = 1\n",
        "  if i % 3  ==  0:   # 3,6,9\n",
        "    print('X')\n",
        "  else:\n",
        "    print(i)\n",
        "\n"
      ]
    },
    {
      "cell_type": "code",
      "execution_count": null,
      "metadata": {
        "colab": {
          "base_uri": "https://localhost:8080/"
        },
        "id": "1_FOdgBQy5jI",
        "outputId": "4378be62-64a1-4270-de7e-3c4e7c2e5dea"
      },
      "outputs": [
        {
          "name": "stdout",
          "output_type": "stream",
          "text": [
            "숫자9\n",
            "1 2 X 4 5 X 7 8 X "
          ]
        }
      ],
      "source": [
        "# OR연산자, AND연산자  =>  OR 연산자\n",
        "n = int(input('숫자'))\n",
        "\n",
        "for i in range(1, n+1):  \n",
        "  # or  조건중에 하나라도 참이면 참\n",
        "  if i == 3  or  i == 6   or  i == 9 : \n",
        "    print('X', end= ' ')\n",
        "  else:\n",
        "    print(i, end = ' ')\n",
        "\n"
      ]
    },
    {
      "cell_type": "code",
      "execution_count": null,
      "metadata": {
        "colab": {
          "base_uri": "https://localhost:8080/"
        },
        "id": "EURxhBTQDPKK",
        "outputId": "e4224952-b3fb-4546-e0cf-d2955904fbc0"
      },
      "outputs": [
        {
          "name": "stdout",
          "output_type": "stream",
          "text": [
            "입니다.\n"
          ]
        }
      ],
      "source": [
        "# IF 문 복습 for 문과 연계\n",
        "# if = 조건 검사 = 만약 조건이 참이면 수행할 내용 작성\n",
        "\n",
        "a = 4\n",
        "#a가 5보다 크다면 \"큰수\" 출력, \n",
        "if a > 5 :\n",
        "  print('큰수')   \n",
        "  print('입니다.')\n",
        "  #콜론 표시의 주의 -\n",
        "  #콜론 다음에는 현재보다 들여쓰기 (탭)\n",
        "\n",
        "###차이점\n",
        "if a > 5 :\n",
        "  print('큰수')   \n",
        "print('입니다.')\n",
        "  #콜론 표시의 주의 -\n",
        "  #콜론 다음에는 현재보다 들여쓰기 (탭)\n",
        "\n",
        "if a > 5 :\n",
        "  print('큰수')\n",
        "else:  #else = '그 밖에'   참이 아닌 경우는 전부 이쪽으로 오게됨.\n",
        "  print('작은수')\n",
        "\n",
        "if a > 5:\n",
        "  print('큰수')\n",
        "\n",
        "if a <= 5:\n",
        "  print('작은수')\n"
      ]
    },
    {
      "cell_type": "code",
      "execution_count": null,
      "metadata": {
        "colab": {
          "base_uri": "https://localhost:8080/",
          "height": 529
        },
        "id": "XarHjMKmFlsD",
        "outputId": "fc4c6516-9cac-466a-dbb0-8ed56049ec33"
      },
      "outputs": [
        {
          "name": "stdout",
          "output_type": "stream",
          "text": [
            "{ans}정답?\n",
            "10\n",
            "오답!\n",
            "{ans}정답?\n",
            "15\n",
            "정답!\n",
            "{ans}정답?\n"
          ]
        },
        {
          "ename": "KeyboardInterrupt",
          "evalue": "ignored",
          "output_type": "error",
          "traceback": [
            "\u001b[0;31m---------------------------------------------------------------------------\u001b[0m",
            "\u001b[0;31mKeyboardInterrupt\u001b[0m                         Traceback (most recent call last)",
            "\u001b[0;32m<ipython-input-6-b8c935be1d20>\u001b[0m in \u001b[0;36m<module>\u001b[0;34m\u001b[0m\n\u001b[1;32m     12\u001b[0m \u001b[0;34m\u001b[0m\u001b[0m\n\u001b[1;32m     13\u001b[0m   \u001b[0mprint\u001b[0m\u001b[0;34m(\u001b[0m\u001b[0;34m'{ans}정답?'\u001b[0m\u001b[0;34m)\u001b[0m\u001b[0;34m\u001b[0m\u001b[0;34m\u001b[0m\u001b[0m\n\u001b[0;32m---> 14\u001b[0;31m   \u001b[0mnum\u001b[0m \u001b[0;34m=\u001b[0m  \u001b[0mint\u001b[0m\u001b[0;34m(\u001b[0m  \u001b[0minput\u001b[0m\u001b[0;34m(\u001b[0m\u001b[0;34m)\u001b[0m   \u001b[0;34m)\u001b[0m  \u001b[0;31m#입력 문자를 숫자로 변환\u001b[0m\u001b[0;34m\u001b[0m\u001b[0;34m\u001b[0m\u001b[0m\n\u001b[0m\u001b[1;32m     15\u001b[0m   \u001b[0;31m#ans랑 num이랑 같은가\u001b[0m\u001b[0;34m\u001b[0m\u001b[0;34m\u001b[0m\u001b[0m\n\u001b[1;32m     16\u001b[0m   \u001b[0;32mif\u001b[0m \u001b[0mans\u001b[0m \u001b[0;34m==\u001b[0m \u001b[0mnum\u001b[0m \u001b[0;34m:\u001b[0m\u001b[0;34m\u001b[0m\u001b[0;34m\u001b[0m\u001b[0m\n",
            "\u001b[0;32m/usr/local/lib/python3.9/dist-packages/ipykernel/kernelbase.py\u001b[0m in \u001b[0;36mraw_input\u001b[0;34m(self, prompt)\u001b[0m\n\u001b[1;32m    858\u001b[0m                 \u001b[0;34m\"raw_input was called, but this frontend does not support input requests.\"\u001b[0m\u001b[0;34m\u001b[0m\u001b[0;34m\u001b[0m\u001b[0m\n\u001b[1;32m    859\u001b[0m             )\n\u001b[0;32m--> 860\u001b[0;31m         return self._input_request(str(prompt),\n\u001b[0m\u001b[1;32m    861\u001b[0m             \u001b[0mself\u001b[0m\u001b[0;34m.\u001b[0m\u001b[0m_parent_ident\u001b[0m\u001b[0;34m,\u001b[0m\u001b[0;34m\u001b[0m\u001b[0;34m\u001b[0m\u001b[0m\n\u001b[1;32m    862\u001b[0m             \u001b[0mself\u001b[0m\u001b[0;34m.\u001b[0m\u001b[0m_parent_header\u001b[0m\u001b[0;34m,\u001b[0m\u001b[0;34m\u001b[0m\u001b[0;34m\u001b[0m\u001b[0m\n",
            "\u001b[0;32m/usr/local/lib/python3.9/dist-packages/ipykernel/kernelbase.py\u001b[0m in \u001b[0;36m_input_request\u001b[0;34m(self, prompt, ident, parent, password)\u001b[0m\n\u001b[1;32m    902\u001b[0m             \u001b[0;32mexcept\u001b[0m \u001b[0mKeyboardInterrupt\u001b[0m\u001b[0;34m:\u001b[0m\u001b[0;34m\u001b[0m\u001b[0;34m\u001b[0m\u001b[0m\n\u001b[1;32m    903\u001b[0m                 \u001b[0;31m# re-raise KeyboardInterrupt, to truncate traceback\u001b[0m\u001b[0;34m\u001b[0m\u001b[0;34m\u001b[0m\u001b[0m\n\u001b[0;32m--> 904\u001b[0;31m                 \u001b[0;32mraise\u001b[0m \u001b[0mKeyboardInterrupt\u001b[0m\u001b[0;34m(\u001b[0m\u001b[0;34m\"Interrupted by user\"\u001b[0m\u001b[0;34m)\u001b[0m \u001b[0;32mfrom\u001b[0m \u001b[0;32mNone\u001b[0m\u001b[0;34m\u001b[0m\u001b[0;34m\u001b[0m\u001b[0m\n\u001b[0m\u001b[1;32m    905\u001b[0m             \u001b[0;32mexcept\u001b[0m \u001b[0mException\u001b[0m \u001b[0;32mas\u001b[0m \u001b[0me\u001b[0m\u001b[0;34m:\u001b[0m\u001b[0;34m\u001b[0m\u001b[0;34m\u001b[0m\u001b[0m\n\u001b[1;32m    906\u001b[0m                 \u001b[0mself\u001b[0m\u001b[0;34m.\u001b[0m\u001b[0mlog\u001b[0m\u001b[0;34m.\u001b[0m\u001b[0mwarning\u001b[0m\u001b[0;34m(\u001b[0m\u001b[0;34m\"Invalid Message:\"\u001b[0m\u001b[0;34m,\u001b[0m \u001b[0mexc_info\u001b[0m\u001b[0;34m=\u001b[0m\u001b[0;32mTrue\u001b[0m\u001b[0;34m)\u001b[0m\u001b[0;34m\u001b[0m\u001b[0;34m\u001b[0m\u001b[0m\n",
            "\u001b[0;31mKeyboardInterrupt\u001b[0m: Interrupted by user"
          ]
        }
      ],
      "source": [
        "#내가 생각한 숫자 맞추기\n",
        "#10번의 기회동안  숫자를 맞춤\n",
        "#10번의 기회 => 10번동안 입력을 받아야겠음\n",
        "#10번동안 => 10번 반복 => for문 필요\n",
        "#입력받음 => input() 필요\n",
        "#내가 입력한 숫자가 맞는지 검사(만약 일치하나???) => if문 필요\n",
        "#10번 반복할 동안  검사를 매번 수행 => for문 안에서 입력도 받고, 검사도 하고\n",
        "\n",
        "#10번 반복\n",
        "for i in range(10):\n",
        "  ans = 15  \n",
        "  num =  int(  input('정답')   )  #입력 문자를 숫자로 변환\n",
        "  #ans랑 num이랑 같은가\n",
        "  if ans == num :\n",
        "    print('정답!')\n",
        "  else :\n",
        "    print('오답!')"
      ]
    },
    {
      "cell_type": "code",
      "execution_count": null,
      "metadata": {
        "id": "Hfm4Rom7I4-b"
      },
      "outputs": [],
      "source": [
        "#내가 생각한 숫자 맞추기\n",
        "#10번의 기회동안  숫자를 맞춤\n",
        "#10번의 기회 => 10번동안 입력을 받아야겠음\n",
        "#10번동안 => 10번 반복 => for문 필요\n",
        "#입력받음 => input() 필요\n",
        "#내가 입력한 숫자가 맞는지 검사(만약 일치하나???) => if문 필요\n",
        "#10번 반복할 동안  검사를 매번 수행 => for문 안에서 입력도 받고, 검사도 하고\n",
        "\n",
        "#10번 반복\n",
        "ans = 15  \n",
        "\n",
        "for i in range(10):  \n",
        "  num =  int(  input('정답')   )  #입력 문자를 숫자로 변환\n",
        "  #ans랑 num이랑 같은가\n",
        "  if ans == num :\n",
        "    print('정답!')\n",
        "  else :\n",
        "    #틀린 숫자만 오는 경우\n",
        "    #또 검사\n",
        "    if ans > num:\n",
        "      print('UP')\n",
        "    else:\n",
        "      print('Down')"
      ]
    },
    {
      "cell_type": "code",
      "execution_count": null,
      "metadata": {
        "id": "ZsgygTBuJZcJ"
      },
      "outputs": [],
      "source": [
        "#내가 생각한 숫자 맞추기\n",
        "#10번의 기회동안  숫자를 맞춤\n",
        "#10번의 기회 => 10번동안 입력을 받아야겠음\n",
        "#10번동안 => 10번 반복 => for문 필요\n",
        "#입력받음 => input() 필요\n",
        "#내가 입력한 숫자가 맞는지 검사(만약 일치하나???) => if문 필요\n",
        "#10번 반복할 동안  검사를 매번 수행 => for문 안에서 입력도 받고, 검사도 하고\n",
        "\n",
        "#10번 반복\n",
        "ans = 15  \n",
        "#파이썬 랜덤값 1~100까지\n",
        "\n",
        "\n",
        "for i in range(10):  \n",
        "  num =  int(  input('정답')   )  #입력 문자를 숫자로 변환\n",
        "  #ans랑 num이랑 같은가\n",
        "  if ans == num :\n",
        "    print('정답!')\n",
        "    #빠져나가기 =>  검색. 파이썬에서 반복문 빠져나가기\n",
        "    break\n",
        "    #else 아래에 if를 또 쓰자니 번거러움...\n",
        "  elif ans > num :\n",
        "    print('UP')\n",
        "  else:\n",
        "    print('Down')\n",
        "  "
      ]
    },
    {
      "cell_type": "code",
      "execution_count": null,
      "metadata": {
        "colab": {
          "background_save": true
        },
        "id": "WJQ8zYnLNp3t",
        "outputId": "3c069973-2b6f-48cc-f46f-da8a32be653a"
      },
      "outputs": [
        {
          "ename": "SyntaxError",
          "evalue": "ignored",
          "output_type": "error",
          "traceback": [
            "\u001b[0;36m  File \u001b[0;32m\"<ipython-input-7-8b6b59b8e87b>\"\u001b[0;36m, line \u001b[0;32m4\u001b[0m\n\u001b[0;31m    for k in range(1, n+1)\u001b[0m\n\u001b[0m                          ^\u001b[0m\n\u001b[0;31mSyntaxError\u001b[0m\u001b[0;31m:\u001b[0m invalid syntax\n"
          ]
        }
      ],
      "source": [
        "n = input()\n",
        "\n",
        "sum = 0\n",
        "for k in range(1, n+1)\n",
        "    if k%2 == 0:\n",
        "        sum = sum+k\n",
        "print(sum)"
      ]
    },
    {
      "cell_type": "markdown",
      "metadata": {
        "id": "nnZTMnyPi776"
      },
      "source": [
        "https://code.juwon.info/problem.php?id=1078\n",
        "\n",
        "1~n까지 짝수의 합 구하기"
      ]
    },
    {
      "cell_type": "code",
      "execution_count": null,
      "metadata": {
        "colab": {
          "base_uri": "https://localhost:8080/",
          "height": 405
        },
        "id": "YXqFWYv_jBy5",
        "outputId": "64a3984c-368e-4874-8a9a-1ba2ae27e77c"
      },
      "outputs": [
        {
          "ename": "KeyboardInterrupt",
          "evalue": "ignored",
          "output_type": "error",
          "traceback": [
            "\u001b[0;31m---------------------------------------------------------------------------\u001b[0m",
            "\u001b[0;31mKeyboardInterrupt\u001b[0m                         Traceback (most recent call last)",
            "\u001b[0;32m<ipython-input-4-d3b47bbc9547>\u001b[0m in \u001b[0;36m<module>\u001b[0;34m\u001b[0m\n\u001b[1;32m      4\u001b[0m \u001b[0;31m#합 구하기  => 합을 보관하는 변수 sum을 만들자\u001b[0m\u001b[0;34m\u001b[0m\u001b[0;34m\u001b[0m\u001b[0m\n\u001b[1;32m      5\u001b[0m \u001b[0;31m#sum변수를 누적해서 저장하자\u001b[0m\u001b[0;34m\u001b[0m\u001b[0;34m\u001b[0m\u001b[0m\n\u001b[0;32m----> 6\u001b[0;31m \u001b[0mn\u001b[0m \u001b[0;34m=\u001b[0m \u001b[0mint\u001b[0m\u001b[0;34m(\u001b[0m\u001b[0minput\u001b[0m\u001b[0;34m(\u001b[0m\u001b[0;34m'number?'\u001b[0m\u001b[0;34m)\u001b[0m\u001b[0;34m)\u001b[0m\u001b[0;34m\u001b[0m\u001b[0;34m\u001b[0m\u001b[0m\n\u001b[0m\u001b[1;32m      7\u001b[0m \u001b[0msum\u001b[0m \u001b[0;34m=\u001b[0m \u001b[0;36m0\u001b[0m \u001b[0;31m#합계\u001b[0m\u001b[0;34m\u001b[0m\u001b[0;34m\u001b[0m\u001b[0m\n\u001b[1;32m      8\u001b[0m \u001b[0;34m\u001b[0m\u001b[0m\n",
            "\u001b[0;32m/usr/local/lib/python3.9/dist-packages/ipykernel/kernelbase.py\u001b[0m in \u001b[0;36mraw_input\u001b[0;34m(self, prompt)\u001b[0m\n\u001b[1;32m    858\u001b[0m                 \u001b[0;34m\"raw_input was called, but this frontend does not support input requests.\"\u001b[0m\u001b[0;34m\u001b[0m\u001b[0;34m\u001b[0m\u001b[0m\n\u001b[1;32m    859\u001b[0m             )\n\u001b[0;32m--> 860\u001b[0;31m         return self._input_request(str(prompt),\n\u001b[0m\u001b[1;32m    861\u001b[0m             \u001b[0mself\u001b[0m\u001b[0;34m.\u001b[0m\u001b[0m_parent_ident\u001b[0m\u001b[0;34m,\u001b[0m\u001b[0;34m\u001b[0m\u001b[0;34m\u001b[0m\u001b[0m\n\u001b[1;32m    862\u001b[0m             \u001b[0mself\u001b[0m\u001b[0;34m.\u001b[0m\u001b[0m_parent_header\u001b[0m\u001b[0;34m,\u001b[0m\u001b[0;34m\u001b[0m\u001b[0;34m\u001b[0m\u001b[0m\n",
            "\u001b[0;32m/usr/local/lib/python3.9/dist-packages/ipykernel/kernelbase.py\u001b[0m in \u001b[0;36m_input_request\u001b[0;34m(self, prompt, ident, parent, password)\u001b[0m\n\u001b[1;32m    902\u001b[0m             \u001b[0;32mexcept\u001b[0m \u001b[0mKeyboardInterrupt\u001b[0m\u001b[0;34m:\u001b[0m\u001b[0;34m\u001b[0m\u001b[0;34m\u001b[0m\u001b[0m\n\u001b[1;32m    903\u001b[0m                 \u001b[0;31m# re-raise KeyboardInterrupt, to truncate traceback\u001b[0m\u001b[0;34m\u001b[0m\u001b[0;34m\u001b[0m\u001b[0m\n\u001b[0;32m--> 904\u001b[0;31m                 \u001b[0;32mraise\u001b[0m \u001b[0mKeyboardInterrupt\u001b[0m\u001b[0;34m(\u001b[0m\u001b[0;34m\"Interrupted by user\"\u001b[0m\u001b[0;34m)\u001b[0m \u001b[0;32mfrom\u001b[0m \u001b[0;32mNone\u001b[0m\u001b[0;34m\u001b[0m\u001b[0;34m\u001b[0m\u001b[0m\n\u001b[0m\u001b[1;32m    905\u001b[0m             \u001b[0;32mexcept\u001b[0m \u001b[0mException\u001b[0m \u001b[0;32mas\u001b[0m \u001b[0me\u001b[0m\u001b[0;34m:\u001b[0m\u001b[0;34m\u001b[0m\u001b[0;34m\u001b[0m\u001b[0m\n\u001b[1;32m    906\u001b[0m                 \u001b[0mself\u001b[0m\u001b[0;34m.\u001b[0m\u001b[0mlog\u001b[0m\u001b[0;34m.\u001b[0m\u001b[0mwarning\u001b[0m\u001b[0;34m(\u001b[0m\u001b[0;34m\"Invalid Message:\"\u001b[0m\u001b[0;34m,\u001b[0m \u001b[0mexc_info\u001b[0m\u001b[0;34m=\u001b[0m\u001b[0;32mTrue\u001b[0m\u001b[0;34m)\u001b[0m\u001b[0;34m\u001b[0m\u001b[0;34m\u001b[0m\u001b[0m\n",
            "\u001b[0;31mKeyboardInterrupt\u001b[0m: Interrupted by user"
          ]
        }
      ],
      "source": [
        "#숫자를 입력받기 기능  => n이라고 하자\n",
        "#1부터 n까지 반복 => for   ~~~~  :  \n",
        "#반복하면서 나오는 숫자가 짝수 인지 검사  %2 == 0 ???\n",
        "#합 구하기  => 합을 보관하는 변수 sum을 만들자\n",
        "#sum변수를 누적해서 저장하자\n",
        "n = int(input('number?'))\n",
        "sum = 0 #합계\n",
        "\n",
        "for k in range(1, n+1):  \n",
        "  #k가 1~n까지 값이 들어옴\n",
        "  #k가 짝수인지 판단\n",
        "  if k%2 == 0:\n",
        "    #sum에다 k를 누적 => 누적한다는 것은 현재sum에 k를 추가=>sum에 보관\n",
        "    sum = sum+k\n",
        "\n",
        "#반복이 끝났음.\n",
        "print(sum)    \n",
        "\n",
        "\n",
        "  \n",
        "\n"
      ]
    },
    {
      "cell_type": "code",
      "execution_count": null,
      "metadata": {
        "colab": {
          "base_uri": "https://localhost:8080/"
        },
        "id": "dhl9-zzdp9_n",
        "outputId": "aec88944-0360-48b2-dbdd-188a72f6a24d"
      },
      "outputs": [
        {
          "name": "stdout",
          "output_type": "stream",
          "text": [
            "number?30\n",
            "240\n"
          ]
        }
      ],
      "source": [
        "n = int(input('number?'))\n",
        "sum = 0 #합계\n",
        "\n",
        "for k in range(2, n+1, 2):\n",
        "  sum = sum+k\n",
        "print(sum)"
      ]
    },
    {
      "cell_type": "code",
      "execution_count": null,
      "metadata": {
        "id": "Eo4M3boTqUCB"
      },
      "outputs": [],
      "source": [
        "#이건 잘못된 코드입니다.\n",
        "#문제점 찾아보기\n",
        "n = int(input('number?'))\n",
        "sum = 0 #합계\n",
        "\n",
        "if n%2 != 0:\n",
        "  n = n-1  #n을 마지막 짝수로 만듬\n",
        "  mid = int(n/2) - 1  \n",
        "else:\n",
        "  mid = int(n/2) + 1\n",
        "\n",
        "sum = ((n+2) *  int(n/4) ) +  mid\n",
        "print(sum)"
      ]
    },
    {
      "cell_type": "code",
      "execution_count": null,
      "metadata": {
        "id": "BLa4kMiCvimJ"
      },
      "outputs": [],
      "source": [
        "#가위1    바위2     보3 \n",
        "#\n",
        "me = int(input('나는 뭐 낼래? 가위1  바위2   보3'))\n",
        "com =  int(input('컴퓨터는 뭐 낼래? 가위1  바위2   보3'))\n",
        "\n",
        "#나의 컴의 비교를 해서 승, 패, 무승부 출력!\n",
        "\n",
        "#내가 이기는 경우\n",
        "#나==1 그리고 컴==3,   나2-컴1,  나3-컴2\n",
        "\n",
        "# or = 둘 중 하나만 만족해도 참\n",
        "# and = 둘 다 만족해야 참\n",
        "# =>논리 연산자(참, 거짓)\n",
        "\n",
        "\n",
        "if me == com:\n",
        "  print('무승부')\n",
        "#elif (me  == 1 and com == 3) or (me == 2 and com == 1) or (me == 3 and com ==2):\n",
        "#elif (me - com == -2)  or  (me-com ==1):\n",
        "elif (me - com) % 3 == 1:\n",
        "  print('이겼다')\n",
        "else:\n",
        "  print('졌다.')\n"
      ]
    },
    {
      "cell_type": "code",
      "execution_count": null,
      "metadata": {
        "id": "4JFXzqOkDA16"
      },
      "outputs": [],
      "source": [
        "# 1이 입력되면 0, 0이 입력되면 1로 출력하는 프로그램 만들자\n",
        "n = input() #문자로서 입력\n",
        "#if n == 1: #n은 문자값이므로     문자1과 숫자1은 다름\n",
        "if n == '1':  #문자 '1'\n",
        "  print('0')  #문자 0은 계산을 할 수 없음.\n",
        "else:\n",
        "  print('1')\n"
      ]
    },
    {
      "cell_type": "code",
      "execution_count": null,
      "metadata": {
        "id": "cRRapFz8GCTZ"
      },
      "outputs": [],
      "source": [
        "n = int(input())\n",
        "print(1-n)"
      ]
    },
    {
      "cell_type": "code",
      "execution_count": null,
      "metadata": {
        "colab": {
          "base_uri": "https://localhost:8080/"
        },
        "id": "z7jlldL-GYLa",
        "outputId": "27b8a265-4bb5-493d-aae1-824272706c4e"
      },
      "outputs": [
        {
          "name": "stdout",
          "output_type": "stream",
          "text": [
            "[20, 5, 10]\n"
          ]
        }
      ],
      "source": [
        "for문과 배열을 섞어보자...\n",
        "#배열 = 리스트 =>  변수의 집합=> 여러개의 변수를 묶어서 보관\n",
        "#그럼 어떻게 안에 있는 자료를 접근할 수 있을까?? => 주소\n",
        "\n",
        "lt = []  #빈 리스트를 만들기\n",
        "#리스트 관련된 명령어 알기\n",
        "#   lt.  => 점을 찍으면 사용할 수 있는 명령어가 나옴\n",
        "\n",
        "# https://wikidocs.net/14\n",
        "\n",
        "\n",
        "lt.append(1) #뒤에 추가\n",
        "lt.append(10)\n",
        "lt.insert(1, 5)  #(번지, 추가할 값) .  리스트는 0번지 부터 출발\n",
        "lt.insert(0,20)  # [20, 1, 5, 10]\n",
        "\n",
        "#1번지에 있는 1을 삭제\n",
        "lt.remove(1) #삭제할때는 주소번지만 이용해서 삭제\n",
        "\n",
        "print(lt)"
      ]
    },
    {
      "cell_type": "code",
      "execution_count": null,
      "metadata": {
        "colab": {
          "base_uri": "https://localhost:8080/"
        },
        "id": "Yd7pXUjjIU4o",
        "outputId": "a3b05597-f6a7-489a-9e33-cf7e054c32bc"
      },
      "outputs": [
        {
          "name": "stdout",
          "output_type": "stream",
          "text": [
            "[0, 10, 20, 30, 40, 50, 60, 70, 80, 90, 100, 110, 120, 130, 140, 150, 160, 170, 180, 190, 200, 210, 220, 230, 240, 250, 260, 270, 280, 290, 300, 310, 320, 330, 340, 350, 360, 370, 380, 390, 400, 410, 420, 430, 440, 450, 460, 470, 480, 490, 500, 510, 520, 530, 540, 550, 560, 570, 580, 590, 600, 610, 620, 630, 640, 650, 660, 670, 680, 690, 700, 710, 720, 730, 740, 750, 760, 770, 780, 790, 800, 810, 820, 830, 840, 850, 860, 870, 880, 890, 900, 910, 920, 930, 940, 950, 960, 970, 980, 990, 1000]\n",
            "4\n",
            "w\n",
            "6\n",
            "6\n",
            "-1\n"
          ]
        }
      ],
      "source": [
        "#[0, 10, 20, 30, 40 ...   1000] 인 배열 만들자.\n",
        "# 0번지 0, 1번지에 10 , 2번지 20, 3번지 30,..... n번지 n*10\n",
        "a = []\n",
        "#for 변수 in 범위(리스트를 써도 되고, range() 이용)\n",
        "for k in range(0, 1001, 10):\n",
        "  a.append(k)\n",
        "print(a)\n",
        "\n",
        "pos = a.index(40)   \n",
        "#값을 찾아보고 있으면 해당 번지를 출력\n",
        "#없으면 오류 출력\n",
        "print(pos)\n",
        "\n",
        "\n",
        "str = 'hello world' #문자열도 리스트로 다룰 수 있음\n",
        "print(str[6])\n",
        "print(str.index('w'))\n",
        "#문자열에서는 find 명령어도 사용할 수 있음\n",
        "print(str.find('w'))\n",
        "#find는 찾지 못하면 오류대신 -1을 출력\n",
        "print(str.find('T'))\n"
      ]
    },
    {
      "cell_type": "code",
      "execution_count": null,
      "metadata": {
        "colab": {
          "base_uri": "https://localhost:8080/"
        },
        "id": "vkKVWO54MC7g",
        "outputId": "195f79d1-5886-4fb8-f454-46c127e287cb"
      },
      "outputs": [
        {
          "name": "stdout",
          "output_type": "stream",
          "text": [
            "4\n",
            "3\n",
            "4\n",
            "5\n"
          ]
        }
      ],
      "source": [
        "#리스트에서 index를 쓰지않고 해당 위치 반환\n",
        "\n",
        "a = [1,2,3,4,4,4,7]  #크기고정\n",
        "size = len(a)  #a 배열의 길이  ,  a.length 아님(자바에서 이렇게)... \n",
        "find = 5\n",
        "\n",
        "#for문을 이용  => a의 크기 만큼 반복검사\n",
        "for k in range(size):\n",
        "  #a[k]야 find를 같음?\n",
        "  if a[k] == find:\n",
        "    print(k)\n",
        "    break\n",
        "\n",
        "\n",
        "\n",
        "#a에서 쓸수 있는 기능\n",
        "#pos = a.index(4)  #4의 위치는?\n",
        "#print(pos)\n",
        "\n",
        "\n",
        "###결과###\n",
        "# 4입력 =>   3(번지)출력"
      ]
    },
    {
      "cell_type": "code",
      "execution_count": null,
      "metadata": {
        "colab": {
          "base_uri": "https://localhost:8080/"
        },
        "id": "TI7gFjh9q4qv",
        "outputId": "2c84569b-9b4a-43c2-9567-4b7f27a20db1"
      },
      "outputs": [
        {
          "name": "stdout",
          "output_type": "stream",
          "text": [
            "6\n",
            "9\n",
            "8\n",
            "7\n",
            "6\n",
            "6\n"
          ]
        }
      ],
      "source": [
        "#마지막부터 값 찾기\n",
        "#hint  range의 활용\n",
        "\n",
        "a = [0,1,2,3,4,5,6,7,8,9]\n",
        "size = len(a)\n",
        "find = int(input())\n",
        "#range(5) 0~4까지\n",
        "#range(1,5) 1~4까지\n",
        "#range(1,10, 2)  1~9까지 2씩 증가\n",
        "#10부터 1까지 1씩 감소 =>  range(11, 0, -1)\n",
        "# for k in range(size-1, -1 , -1):\n",
        "#   if a[k] == find:\n",
        "#     print(k)\n",
        "#     break\n",
        "\n",
        "\n",
        "for k in range(size):\n",
        "  #0 번지 => 9만들기\n",
        "  pos = size - 1 - k  #k=0일때 10-1-k=>9-0 = 9번지 찾기\n",
        "  if a[pos] == find:\n",
        "    print(pos)\n",
        "    break\n"
      ]
    },
    {
      "cell_type": "code",
      "execution_count": null,
      "metadata": {
        "colab": {
          "base_uri": "https://localhost:8080/"
        },
        "id": "jS57V1bD1LDy",
        "outputId": "8e4e1c85-be30-4650-8131-6b914c8920ba"
      },
      "outputs": [
        {
          "name": "stdout",
          "output_type": "stream",
          "text": [
            "jan\n",
            "feb\n",
            "mar\n",
            "apr\n",
            "may\n",
            "june\n",
            "july\n"
          ]
        }
      ],
      "source": [
        "#n = [1,3,5,76,8,3,1,2,3,54]\n",
        "n = ['jan', 'feb', 'mar', 'apr', 'may', 'june', 'july']\n",
        "\n",
        "#range(10) =  [0,1,2,3,4,5,6,7,8,9]\n",
        "for k  in n:  #in 다음에는  range만 가능한게 아님. 범위를 가지고 있는것\n",
        "  print(k)\n",
        "\n"
      ]
    },
    {
      "cell_type": "code",
      "execution_count": null,
      "metadata": {
        "colab": {
          "base_uri": "https://localhost:8080/"
        },
        "id": "wI3PEoZj2YXm",
        "outputId": "93d2e4e2-b49b-4f31-b7c0-e32960b50549"
      },
      "outputs": [
        {
          "name": "stdout",
          "output_type": "stream",
          "text": [
            "0\n",
            "1\n",
            "2\n",
            "3\n",
            "4\n",
            "byebye\n",
            "5\n"
          ]
        }
      ],
      "source": [
        "#https://wikidocs.net/21\n",
        "#반복문\n",
        "\n",
        "# 조건이 참인 동안 반복\n",
        "k = 0\n",
        "while k < 5:\n",
        "  print(k)\n",
        "  k = k+1\n",
        "\n",
        "print('byebye')\n",
        "print(k)\n"
      ]
    },
    {
      "cell_type": "code",
      "execution_count": null,
      "metadata": {
        "colab": {
          "base_uri": "https://localhost:8080/"
        },
        "id": "Y71lFIP53xKm",
        "outputId": "75d9ffd8-ab81-4c51-da61-adf5d2f3dd2d"
      },
      "outputs": [
        {
          "name": "stdout",
          "output_type": "stream",
          "text": [
            "패스워드를 입력하세요asd\n",
            "패스워드를 입력하세요dqw\n",
            "패스워드를 입력하세요qwe\n",
            "패스워드를 입력하세요1234\n",
            "welcome\n"
          ]
        }
      ],
      "source": [
        "#패스워드를 검사하자. 비번이 맞을 때 까지 반복\n",
        "\n",
        "\n",
        "pw = '1234'  #문자 1234\n",
        "my = input('패스워드를 입력하세요')\n",
        "\n",
        "#비번이 틀렸을 때 반복   pw  my 같지 않을때\n",
        "while pw != my:  #!는 부정의 의미\n",
        "  my = input('패스워드를 입력하세요')\n",
        "\n",
        "print('welcome')"
      ]
    },
    {
      "cell_type": "code",
      "execution_count": null,
      "metadata": {
        "id": "IQ_8Kaow42zy"
      },
      "outputs": [],
      "source": [
        "pw = '1234'\n",
        "\n",
        "#무조건 반복하다가 조건이 맞으면 탈출(break)\n",
        "#파이썬에는 do-while문이 없음...\n",
        "#True는 참을 뜻함  False은 거짓 => 대소문자 주의\n",
        "while True  :\n",
        "  my = input('비번입력')\n",
        "  if my == pw:\n",
        "    break\n"
      ]
    },
    {
      "cell_type": "code",
      "execution_count": null,
      "metadata": {
        "colab": {
          "background_save": true,
          "base_uri": "https://localhost:8080/"
        },
        "id": "YieJPhPFI0DN",
        "outputId": "bcdf8b27-7f01-4745-ab9d-fd3dda87792d"
      },
      "outputs": [
        {
          "name": "stdout",
          "output_type": "stream",
          "text": [
            "K\n",
            "K\n",
            "I\n",
            "N\n",
            "T\n",
            "E\n",
            "X\n"
          ]
        }
      ],
      "source": [
        "#문제 1134번\n",
        "\n",
        "#target = input('찾을 글자를 입력하세요  - KTX')\n",
        "#src = input('문자열을 입력하세요 - KINTEX')\n",
        "target = 'KTX'\n",
        "src = 'KINTEX'\n",
        "t_pos = 0\n",
        "print(target[t_pos])  #문자열도 리스트임\n",
        "\n",
        "for s in src:\n",
        "  print(s)\n",
        "\n",
        "\n",
        "\n",
        "\n",
        "\n",
        "\n",
        "\n",
        "\n",
        "\n",
        "\n"
      ]
    },
    {
      "cell_type": "markdown",
      "source": [
        "############정리##############\n",
        "값을 보관 하기\n",
        "- 변수를 사용 -  \n",
        "\ta = 1  <=  오른쪽에서 왼쪽으로 복사\n",
        "\t저장되는 것에 종류가 있을까? = 자료형(숫자, 문자, 참/거짓...), 자료의 형태를 지정하지 않음\n",
        "\n",
        "- 만약, 24명의 학생을 보관하려고 함. 변수가 몇개 필요하지? => 24개 필요 => 너무 많음 => 한번에 관리할 수 없을까?\n",
        "\t- 리스트 : 변수들의 집합, 모임  (리스트(배열)..., 튜플, 딕셔너리, 집합)\n",
        "\t- 사용법 : 주소가 있음(0번지 부터 시작)\n",
        "\t- a[0] = 1  #a리스트의 0번지에 1을 저장\n",
        "\t- 번지에 꼭 숫자가 들어가야 할까? => 아니다. => 변수가 들어갈 수 있음(숫자인 변수)\n",
        "\t- arr = 1,    lt[arr] = 1  #   lt리스트의 1번지에 1이 들어감   lt[1]\n",
        "\t- 리스트의 크기는 변함. 항목을 추가할 수도 있고, 뺄 수도 있음.\n",
        "  https://wikidocs.net/14\n",
        "  \n",
        "\n",
        "\n",
        "\t기능을 사용하기\n",
        "\t- 파이썬에서 만든 기능을 사용\n",
        "\t- 명령어()    의 형태\n",
        "\t- print() ,  append(), len(), input(), int()\n",
        "\t- 기능을 만들어서 사용할 수 있음.   def:\n",
        "\n",
        "\t-print , print()  은 다른말\n",
        "\n",
        "문법\n",
        "\t- 반복문 : 같은 작업을 여러번 반복시키는 명령\n",
        "\t\t- for :  일정 범위 만큼 반복\n",
        "\t\t\t- 예) 10번 반복해 X =>   0-9만큼 반복해\n",
        "\t\t\tfor   사용할 변수  in    range(10)  #사용할 변수에 0~9까지 적용\n",
        "\t\t\t- range() 의 활용\n",
        "\t\t\t- range(10) : 0-9,   range(5,10) : 5-9,  range(3,10, 2) : 3-9 , 2씩 증가\n",
        "\t\t\t-    #  10, 0, 1씩 감소 (= -1씩 증가)\n",
        "\t\t\t- 들여쓰기 조심\n",
        "\n",
        "\n"
      ],
      "metadata": {
        "id": "S0xi9kKjwBhg"
      }
    },
    {
      "cell_type": "code",
      "source": [
        "for i in range(10, -1, -1): #  10 ~ 0\n",
        "  print(i)   "
      ],
      "metadata": {
        "colab": {
          "base_uri": "https://localhost:8080/"
        },
        "id": "isJSB-gq4hDA",
        "outputId": "eae09644-8d2c-4d15-e256-01281f578a20"
      },
      "execution_count": null,
      "outputs": [
        {
          "output_type": "stream",
          "name": "stdout",
          "text": [
            "10\n",
            "9\n",
            "8\n",
            "7\n",
            "6\n",
            "5\n",
            "4\n",
            "3\n",
            "2\n",
            "1\n",
            "0\n"
          ]
        }
      ]
    },
    {
      "cell_type": "code",
      "source": [
        "#리스트와 for를 사용해보자.\n",
        "#리스트를 만드는데 [0,1,2,3,4] 가 보관된 리스트 만들기\n",
        "\n",
        "lt = [] #아무것도 없는 리스트 .append이용해 추가\n",
        "# lt.append(0)\n",
        "# lt.append(1)\n",
        "# lt.append(2)\n",
        "# lt.append(3)\n",
        "# lt.append(4)\n",
        "size = int( input('크기를 입력하세요')  )\n",
        "for k  in range(0, size):  #k는 0~4까지 보관\n",
        "  #들여쓰기 조심\n",
        "  lt.append(k)\n",
        "\n",
        "print(lt)\n"
      ],
      "metadata": {
        "colab": {
          "base_uri": "https://localhost:8080/"
        },
        "id": "-7vnRND35Zfw",
        "outputId": "3ccd78da-18f7-4f32-c112-433cf9c4d8e5"
      },
      "execution_count": null,
      "outputs": [
        {
          "output_type": "stream",
          "name": "stdout",
          "text": [
            "크기를 입력하세요100\n",
            "[0, 1, 2, 3, 4, 5, 6, 7, 8, 9, 10, 11, 12, 13, 14, 15, 16, 17, 18, 19, 20, 21, 22, 23, 24, 25, 26, 27, 28, 29, 30, 31, 32, 33, 34, 35, 36, 37, 38, 39, 40, 41, 42, 43, 44, 45, 46, 47, 48, 49, 50, 51, 52, 53, 54, 55, 56, 57, 58, 59, 60, 61, 62, 63, 64, 65, 66, 67, 68, 69, 70, 71, 72, 73, 74, 75, 76, 77, 78, 79, 80, 81, 82, 83, 84, 85, 86, 87, 88, 89, 90, 91, 92, 93, 94, 95, 96, 97, 98, 99]\n"
          ]
        }
      ]
    },
    {
      "cell_type": "code",
      "source": [
        "ans = ''\n",
        "while ans != 'Q':\n",
        "  ans = input('Q를 입력하면 종료합니다.')\n",
        "  "
      ],
      "metadata": {
        "colab": {
          "base_uri": "https://localhost:8080/"
        },
        "id": "kWuzu1QCJmFK",
        "outputId": "f2bb3c5e-a41f-4d43-dd53-8527810e8dc0"
      },
      "execution_count": null,
      "outputs": [
        {
          "name": "stdout",
          "output_type": "stream",
          "text": [
            "Q를 입력하면 종료합니다.a\n",
            "Q를 입력하면 종료합니다.Q\n"
          ]
        }
      ]
    },
    {
      "cell_type": "code",
      "source": [
        "#숫자 하나를 입력받고, 그 숫자부터 1까지 출력, 단 while 이용\n",
        "n = int( input('숫자입력'))\n",
        "\n",
        "while n>0:\n",
        "  print(n)\n",
        "  n = n - 1  # n -= 1\n"
      ],
      "metadata": {
        "colab": {
          "base_uri": "https://localhost:8080/"
        },
        "id": "CbRr7gNqLwKr",
        "outputId": "bb68dc29-8d53-4f0b-e1f7-9abbba10ec24"
      },
      "execution_count": null,
      "outputs": [
        {
          "output_type": "stream",
          "name": "stdout",
          "text": [
            "숫자입력10\n",
            "10\n",
            "9\n",
            "8\n",
            "7\n",
            "6\n",
            "5\n",
            "4\n",
            "3\n",
            "2\n",
            "1\n"
          ]
        }
      ]
    },
    {
      "cell_type": "code",
      "source": [
        "#숫자를 하나 입력받아서  입력수부터 100까지 출력    10 11 12.. 100출력\n",
        "n = int(input('입력'))\n",
        "\n",
        "while n < 101:\n",
        "  print(n)\n",
        "  n+=1"
      ],
      "metadata": {
        "id": "KoBb7ByeO656"
      },
      "execution_count": null,
      "outputs": []
    },
    {
      "cell_type": "code",
      "source": [],
      "metadata": {
        "id": "JmqL1M_dtxAw"
      },
      "execution_count": null,
      "outputs": []
    }
  ],
  "metadata": {
    "colab": {
      "provenance": [],
      "include_colab_link": true
    },
    "kernelspec": {
      "display_name": "Python 3",
      "name": "python3"
    },
    "language_info": {
      "name": "python"
    }
  },
  "nbformat": 4,
  "nbformat_minor": 0
}