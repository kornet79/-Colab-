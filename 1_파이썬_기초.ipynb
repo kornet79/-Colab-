{
  "nbformat": 4,
  "nbformat_minor": 0,
  "metadata": {
    "colab": {
      "provenance": [],
      "include_colab_link": true
    },
    "kernelspec": {
      "name": "python3",
      "display_name": "Python 3"
    },
    "language_info": {
      "name": "python"
    }
  },
  "cells": [
    {
      "cell_type": "markdown",
      "metadata": {
        "id": "view-in-github",
        "colab_type": "text"
      },
      "source": [
        "<a href=\"https://colab.research.google.com/github/kornet79/-Colab-/blob/main/1_%ED%8C%8C%EC%9D%B4%EC%8D%AC_%EA%B8%B0%EC%B4%88.ipynb\" target=\"_parent\"><img src=\"https://colab.research.google.com/assets/colab-badge.svg\" alt=\"Open In Colab\"/></a>"
      ]
    },
    {
      "cell_type": "markdown",
      "source": [
        "파이썬은 띄어쓰기 조심!\n",
        "print문장은 화면에 출력해주는 명령어"
      ],
      "metadata": {
        "id": "0QFeH5ZrtDgE"
      }
    },
    {
      "cell_type": "code",
      "execution_count": null,
      "metadata": {
        "colab": {
          "base_uri": "https://localhost:8080/"
        },
        "id": "fdSpiTBlr6sV",
        "outputId": "8c07348b-c439-42ab-88a0-1c20a694c3f0"
      },
      "outputs": [
        {
          "output_type": "stream",
          "name": "stdout",
          "text": [
            "my first python code!\n"
          ]
        }
      ],
      "source": [
        "print('my first python code!')"
      ]
    },
    {
      "cell_type": "markdown",
      "source": [
        "파이썬에서 변수만들기는 쉬움. 그냥 약속되지 않은 이름을 사용하면 됨."
      ],
      "metadata": {
        "id": "tasejAOouzyZ"
      }
    },
    {
      "cell_type": "code",
      "source": [
        "name = '홍길동' #홑따옴표로 감싸있음 => 문자열\n",
        "age = '2'  #숫자\n",
        "age = age + 1\n",
        "print('안녕하세요 난 ', name, age)"
      ],
      "metadata": {
        "colab": {
          "base_uri": "https://localhost:8080/"
        },
        "id": "EazZBiastUwX",
        "outputId": "30230b84-981b-4cb8-e196-15ae5d51c82e"
      },
      "execution_count": null,
      "outputs": [
        {
          "output_type": "stream",
          "name": "stdout",
          "text": [
            "안녕하세요 난  홍길동 3\n"
          ]
        }
      ]
    },
    {
      "cell_type": "code",
      "source": [
        "#연산자\n",
        "a = 5\n",
        "b = 3\n",
        "print(a%b) #나머지를 구하는 연산자\n"
      ],
      "metadata": {
        "colab": {
          "base_uri": "https://localhost:8080/"
        },
        "id": "S09arUS1_zi9",
        "outputId": "14f820a3-f4f2-453a-8545-7ce48cf7a6d0"
      },
      "execution_count": null,
      "outputs": [
        {
          "output_type": "stream",
          "name": "stdout",
          "text": [
            "1.6666666666666667\n"
          ]
        }
      ]
    },
    {
      "cell_type": "code",
      "source": [
        "a = 5\n",
        "b = 2\n",
        "print(a == b)  # == 같은가. 비교연산자\n",
        "print(a != b)"
      ],
      "metadata": {
        "colab": {
          "base_uri": "https://localhost:8080/"
        },
        "id": "C6ST3GGWAiDe",
        "outputId": "64e64a5d-7e83-4c79-da2d-53261b095f52"
      },
      "execution_count": null,
      "outputs": [
        {
          "output_type": "stream",
          "name": "stdout",
          "text": [
            "True\n"
          ]
        }
      ]
    },
    {
      "cell_type": "code",
      "source": [
        "a = 5\n",
        "b = 10\n",
        "\n",
        "a = a + b # 15\n",
        "b = a - b # 5\n",
        "a = a - b # 10\n",
        "\n",
        "#a, b만을 이용해서 자리바꾸기 할 수 있을까??\n",
        "#\n",
        "print(a, b)  # 서로 반대가 되게.   2 5"
      ],
      "metadata": {
        "colab": {
          "base_uri": "https://localhost:8080/"
        },
        "id": "r-i2ukVoBEwc",
        "outputId": "1e422390-886a-4a22-cf56-a6369455d424"
      },
      "execution_count": null,
      "outputs": [
        {
          "output_type": "stream",
          "name": "stdout",
          "text": [
            "10 5\n"
          ]
        }
      ]
    },
    {
      "cell_type": "code",
      "source": [
        "str = 'hello'  #문자열"
      ],
      "metadata": {
        "id": "acLq89nwcs2X"
      },
      "execution_count": null,
      "outputs": []
    },
    {
      "cell_type": "code",
      "source": [
        "print(str)"
      ],
      "metadata": {
        "colab": {
          "base_uri": "https://localhost:8080/"
        },
        "id": "B2gnvLltcvfG",
        "outputId": "fcd6bef4-f67f-46cf-9bb7-226560fc8626"
      },
      "execution_count": null,
      "outputs": [
        {
          "output_type": "stream",
          "name": "stdout",
          "text": [
            "hello\n"
          ]
        }
      ]
    },
    {
      "cell_type": "code",
      "source": [
        "#우리반 학생을 저장 ( 1~ 10번)\n",
        "#방법1\n",
        "s1 = '김개똥'\n",
        "s2 = '홍길동'\n",
        "#만약 학생이 100명이라면 ? => 100의 변수가 필요\n",
        "#하나의 묶음으로 보관 =>  List (다른 언어서는 배열 array)\n",
        "\n",
        "student = ['김개똥', '홍길동', 100]  #리스트에 다른 형태의 자료형도 보관가능\n",
        "print(student[2]) #리스트 번지는 0번지 부터 시작\n",
        "\n",
        "student.append('이정환') #append 새로운 항목을 뒤에 추가할 때\n",
        "print(student[3])\n",
        "#리스트에서 쓸수 있는 기능들은 어떤게 있을까??\n",
        "\n",
        "#리스트에서 특정항목 삭제\n",
        "student.pop(1)  #1번째 항목이 삭제\n",
        "\n",
        "#다시 출력\n",
        "print(student)"
      ],
      "metadata": {
        "colab": {
          "base_uri": "https://localhost:8080/"
        },
        "id": "gqmu9i_tdHqN",
        "outputId": "3b839891-b27f-488a-c848-9bd5ef0c9640"
      },
      "execution_count": null,
      "outputs": [
        {
          "output_type": "stream",
          "name": "stdout",
          "text": [
            "100\n",
            "이정환\n",
            "['김개똥', 100, '이정환']\n"
          ]
        }
      ]
    },
    {
      "cell_type": "code",
      "source": [
        "#만약 1번의 이름, 국어, 영어, 정보 성적을 보관\n",
        "#2번의 이름, 국어, 영어, 정보\n",
        "s1 = ['김개똥', 100, 50, 70]\n",
        "s2 = ['홍길동', 60, 70, 100]\n",
        "\n",
        "cls = [s1, s2]  #리스트(배열)안에 리스트를 넣을 수 있음 => 2차원 리스트(배열)\n",
        "a1 = cls[0]  #s1 = 김개똥의 배열\n",
        "print(a1[1]) #김개똥의 국어 점수\n",
        "print(cls[0][1])  \n",
        "\n",
        "#배열과 리스트 가 같을까??  => 배열은 크기가 고정= 변경불가 , 리스트는 변함\n"
      ],
      "metadata": {
        "colab": {
          "base_uri": "https://localhost:8080/"
        },
        "id": "6403Wr7ii-b6",
        "outputId": "40368742-333a-46d9-91b7-f75c267445d2"
      },
      "execution_count": null,
      "outputs": [
        {
          "output_type": "stream",
          "name": "stdout",
          "text": [
            "[['김개똥', 100, 50, 70], ['홍길동', 60, 70, 100]]\n"
          ]
        }
      ]
    },
    {
      "cell_type": "code",
      "source": [
        "#여기만 실행하면 안됨.. \n",
        "#type(변수)  =  변수의 타입(자료의 형태를 출력)\n",
        "\n",
        "print(   type(cls)          )   #cls의 자료형\n",
        "num = 3\n",
        "print( type( num ))   \n"
      ],
      "metadata": {
        "colab": {
          "base_uri": "https://localhost:8080/"
        },
        "id": "775HD6NOpfVx",
        "outputId": "d4a65d3a-9adb-4891-c09d-759b484086d2"
      },
      "execution_count": null,
      "outputs": [
        {
          "output_type": "stream",
          "name": "stdout",
          "text": [
            "<class 'list'>\n",
            "<class 'int'>\n"
          ]
        }
      ]
    },
    {
      "cell_type": "code",
      "source": [
        "#사용자 입력\n",
        "print('이름을 입력하세요') \n",
        "name = input() #입력하기 기능\n",
        "#또는 name = input('이름을 입력하세요')\n",
        "#print('hello', name)\n",
        "#print('hello' + name)\n",
        "print(f'hello {name}')   #  f' 로 시작하는 포맷팅을 이용해서 변수를 안에 표현할 수 있음.\n",
        "\n"
      ],
      "metadata": {
        "colab": {
          "base_uri": "https://localhost:8080/"
        },
        "id": "hVU_mEOLrMO-",
        "outputId": "c6e4220f-9cd2-4317-94c8-01443d64bede"
      },
      "execution_count": null,
      "outputs": [
        {
          "output_type": "stream",
          "name": "stdout",
          "text": [
            "이름을 입력하세요\n",
            "ghks\n",
            "hello ghks\n"
          ]
        }
      ]
    },
    {
      "cell_type": "code",
      "source": [
        "#리스트에서 관해서.. 문자열\n",
        "#String = 문자열\n",
        "str = 'hello world'\n",
        "print(str[4])  #['h','e','l'..... ] 저장되고 있음\n",
        "print(   len(str)    )  # len()  기능은 문자의 길이를 출력\n",
        "\n",
        "list = [1,2,3,4,5]  #배열의 길이를 알 수 있을까?\n",
        "print(len(list)) "
      ],
      "metadata": {
        "colab": {
          "base_uri": "https://localhost:8080/"
        },
        "id": "mm0av5i29Ybt",
        "outputId": "beb915a1-db81-44a5-b4dc-d3a9b141c042"
      },
      "execution_count": null,
      "outputs": [
        {
          "output_type": "stream",
          "name": "stdout",
          "text": [
            "o\n",
            "11\n",
            "5\n"
          ]
        }
      ]
    },
    {
      "cell_type": "code",
      "source": [
        "#반복문 - 반복된 작업을 쉽게\n",
        "#상황 - 리스트 = [0,0,0,0,0,0,...] => 100칸 생성\n",
        "#list = [0,0 ... 0]  또는\n",
        "#list = []   list.append(0) 추가하기 100번\n",
        "\n",
        "#반복 명령어 for, while\n",
        "#for = 제한된 횟수 만큼 반복\n",
        "# k = 반복하면서 사용 변수.\n",
        "#range(범위)   0~범위-1 까지    \n",
        "for k in range(2,5):     # 2부터 5-1까지\n",
        "# :표시는 중괄호 시작이랑 같은 뜻\n",
        "  #안에 들여쓰기를 했음.\n",
        "  print(k)  #k는 0~9까지 변신\n",
        "  print('반복중')\n"
      ],
      "metadata": {
        "colab": {
          "base_uri": "https://localhost:8080/"
        },
        "id": "-NwNlrwI-25z",
        "outputId": "d29f209e-962a-4c3a-d9e2-7fc241e02919"
      },
      "execution_count": null,
      "outputs": [
        {
          "output_type": "stream",
          "name": "stdout",
          "text": [
            "2\n",
            "3\n",
            "4\n",
            "반복중\n"
          ]
        }
      ]
    },
    {
      "cell_type": "code",
      "source": [
        "# 100개의 리스트 배열을 만들고 [0,2,4,6....] 순서로 값을 초기화\n",
        "# 배열의 항목을 추가하는 명령어 append\n",
        "\n",
        "list = []\n",
        "\n",
        "#list.append(0)\n",
        "#list.append(2)\n",
        "#list.append(4)\n",
        "\n",
        "#for 변수 in  범위:\n",
        "# 반복내용\n",
        "for n in range(0, 200, 2):  #0~200까지 2씩 커짐...  \n",
        "#for(int i = 0 ; i < 200 ; i = i+2)\n",
        "  #n = 0 ,1,2,...99\n",
        "  #list.append(n*2)\n",
        "  list.append(n)\n",
        "\n",
        "###############\n",
        "#... 100번\n",
        "print(list)\n",
        "#[0,2,4,6,8....   198]\n",
        "\n",
        "for k in list:\n",
        "  print(k)\n",
        "\n",
        "\n"
      ],
      "metadata": {
        "id": "dnVHZxmHBZ7p"
      },
      "execution_count": null,
      "outputs": []
    },
    {
      "cell_type": "code",
      "source": [
        "str = 'hello world'\n",
        "#print(str[::-1])\n",
        "print(str.reverse)"
      ],
      "metadata": {
        "id": "OMUetqKpGrZc"
      },
      "execution_count": null,
      "outputs": []
    },
    {
      "cell_type": "code",
      "source": [
        "# for 반복문은 똑같은 획수를 반복하거나 지정 할수있는 반복문\n",
        "#구구단 출력\n",
        "# 3입력 => 3*1=3...3*9= 27\n",
        "n = input('숫자를 입력하시요: ')\n",
        "\n",
        "print(n*3) # input() 으로 입력 받은 값은 문자열로 인식하여 출력한다.\n",
        "k = int(n) # int 타입= 정수로 변경\n",
        "print(k*3)\n",
        "# ==>>>>> n = int(input('숫자 입력'))\n",
        "\n"
      ],
      "metadata": {
        "id": "_nxoeLHreguM",
        "outputId": "b4842285-ee58-4d98-8edf-d95b8fbf067d",
        "colab": {
          "base_uri": "https://localhost:8080/"
        }
      },
      "execution_count": 7,
      "outputs": [
        {
          "output_type": "stream",
          "name": "stdout",
          "text": [
            "숫자를 입력하시요: 3\n",
            "333\n",
            "9\n"
          ]
        }
      ]
    },
    {
      "cell_type": "code",
      "source": [
        "#입력 받은 숫자를 가지고 구구단 만들기\n",
        "n = int(input('숫자입력:')) # 내가원하는 숫자가 n에 입력이 됀다\n",
        " # 중가로는 안에 있는 변수의 값을 출력하라\n",
        "\n",
        "for i in range(0,9):\n",
        "   #반복할 작업을 tab 만큼 들여 써서 사용한다\n",
        "   print(f'{n} * {i} = {n *i}') \n",
        "\n",
        "\n"
      ],
      "metadata": {
        "id": "XUH_wo7-h8Js",
        "outputId": "1ede4280-e84a-4d31-d4e3-6362b9b0b36e",
        "colab": {
          "base_uri": "https://localhost:8080/"
        }
      },
      "execution_count": 27,
      "outputs": [
        {
          "output_type": "stream",
          "name": "stdout",
          "text": [
            "숫자입력:3\n",
            "3 * 2 = 6\n",
            "3 * 3 = 9\n",
            "3 * 4 = 12\n",
            "3 * 5 = 15\n",
            "3 * 6 = 18\n",
            "3 * 7 = 21\n",
            "3 * 8 = 24\n"
          ]
        }
      ]
    },
    {
      "cell_type": "code",
      "source": [
        "n = int(input('숫자입력:'))\n",
        "\n",
        "for i in range(0,31):\n",
        "  if"
      ],
      "metadata": {
        "id": "ZHYAGNi4oGz9",
        "outputId": "74a4943a-20a8-4fba-a301-ddcf9aa23e77",
        "colab": {
          "base_uri": "https://localhost:8080/",
          "height": 137
        }
      },
      "execution_count": 28,
      "outputs": [
        {
          "output_type": "error",
          "ename": "SyntaxError",
          "evalue": "ignored",
          "traceback": [
            "\u001b[0;36m  File \u001b[0;32m\"<ipython-input-28-b02cd229128e>\"\u001b[0;36m, line \u001b[0;32m3\u001b[0m\n\u001b[0;31m    for i in range(0,31)\u001b[0m\n\u001b[0m                        ^\u001b[0m\n\u001b[0;31mSyntaxError\u001b[0m\u001b[0;31m:\u001b[0m invalid syntax\n"
          ]
        }
      ]
    }
  ]
}